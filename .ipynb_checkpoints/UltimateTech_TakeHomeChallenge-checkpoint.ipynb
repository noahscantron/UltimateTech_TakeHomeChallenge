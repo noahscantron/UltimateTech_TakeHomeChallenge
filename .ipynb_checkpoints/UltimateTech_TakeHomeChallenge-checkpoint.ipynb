{
 "cells": [
  {
   "cell_type": "markdown",
   "id": "8b192b04-3945-4488-abf0-add296a1ccf5",
   "metadata": {},
   "source": [
    "# Summary"
   ]
  },
  {
   "cell_type": "markdown",
   "id": "c4cb624d-0fea-4f73-b937-7211a3f3eda5",
   "metadata": {},
   "source": [
    "1. Exploratory Data Analysis\n",
    "    - Aggregate login counts within 15min intervals\n",
    "        - Visualize and describe patterns\n",
    "    - Report/illustrate important features of demand\n",
    "        - i.e. daily cycles\n",
    "    - Report data quality issues, if applicable\n",
    "2. Experiment and Metrics Design\n",
    "    - Gotham (Night), Metropolis (Day), Both (Weekends), toll-bridge w/ two-way toll causes drivers to be exclusive to their city.\n",
    "    - Proposed solution: Ultimate reimburses all toll costs\n",
    "    - What should the metric of success for encouraging drivers to serve both cities?\n",
    "    - Describe a practical experiment to compare effectiveness which relates to chosen metric of sucess. Provide details on:\n",
    "        - Implementation\n",
    "        - Statistical tests to verify significance\n",
    "        - Interpretation of results and recommendations to city operations team; with any caveats\n",
    "3. Predictive Modeling\n",
    "    - Predict rider retention using data of a cohort who signed up Jan. 2014, data was pulled several months later. Users are retained if active (took a trip) in the preceding 30 days\n",
    "    - Find the best predictors for retention, offer suggestions to operationalize those insights\n",
    "        - Clean, EDA, describe approach with sentences/plots\n",
    "        - Build a predictive model to determine whether or not a user will be active in their 6th month on the system.\n",
    "            - Dicuss approach, alternatives, concerns\n",
    "            - How valid is the model?\n",
    "            - Include indicators of model performance\n",
    "        - Briefly discuss how Ultimate might leverage insights from the model to improve long-term rider retention"
   ]
  },
  {
   "cell_type": "markdown",
   "id": "21403a08-40c0-4745-bac4-920a14277eae",
   "metadata": {
    "tags": []
   },
   "source": [
    "# Import General Packages"
   ]
  },
  {
   "cell_type": "code",
   "execution_count": 1,
   "id": "5f1c1fb9-a69d-4778-9afb-1db6ad10e61e",
   "metadata": {},
   "outputs": [],
   "source": [
    "import numpy as np\n",
    "import pandas as pd\n",
    "import matplotlib.pyplot as plt\n",
    "import seaborn as sns\n",
    "sns.set()"
   ]
  },
  {
   "cell_type": "markdown",
   "id": "e4647cc5-1331-4ae6-b2ce-d8e5ab39b4d4",
   "metadata": {},
   "source": [
    "# Part 1"
   ]
  },
  {
   "cell_type": "markdown",
   "id": "170d0877-3b6b-46dd-b360-bd36f1ca6bce",
   "metadata": {},
   "source": [
    "1. Exploratory Data Analysis\n",
    "    - Aggregate login counts within 15min intervals\n",
    "        - Visualize and describe patterns\n",
    "    - Report/illustrate important features of demand\n",
    "        - i.e. daily cycles\n",
    "    - Report data quality issues, if applicable"
   ]
  },
  {
   "cell_type": "markdown",
   "id": "d31cd406-bbe2-460a-b92e-58216c91737e",
   "metadata": {},
   "source": [
    "## Import Data"
   ]
  },
  {
   "cell_type": "code",
   "execution_count": 2,
   "id": "4fee2c86-07f4-4a3e-9287-45ed7d5ceefa",
   "metadata": {},
   "outputs": [],
   "source": [
    "path = 'logins.json'\n",
    "logins = pd.read_json(path)"
   ]
  },
  {
   "cell_type": "markdown",
   "id": "426c52ca-5807-4aa4-9f33-a9cd1f40c025",
   "metadata": {},
   "source": [
    "## EDA"
   ]
  },
  {
   "cell_type": "code",
   "execution_count": 3,
   "id": "a8f042f4-d9a5-41bc-912b-cb31d7e8cf4b",
   "metadata": {},
   "outputs": [
    {
     "data": {
      "text/html": [
       "<div>\n",
       "<style scoped>\n",
       "    .dataframe tbody tr th:only-of-type {\n",
       "        vertical-align: middle;\n",
       "    }\n",
       "\n",
       "    .dataframe tbody tr th {\n",
       "        vertical-align: top;\n",
       "    }\n",
       "\n",
       "    .dataframe thead th {\n",
       "        text-align: right;\n",
       "    }\n",
       "</style>\n",
       "<table border=\"1\" class=\"dataframe\">\n",
       "  <thead>\n",
       "    <tr style=\"text-align: right;\">\n",
       "      <th></th>\n",
       "      <th>login_time</th>\n",
       "    </tr>\n",
       "  </thead>\n",
       "  <tbody>\n",
       "    <tr>\n",
       "      <th>0</th>\n",
       "      <td>1970-01-01 20:13:18</td>\n",
       "    </tr>\n",
       "    <tr>\n",
       "      <th>1</th>\n",
       "      <td>1970-01-01 20:16:10</td>\n",
       "    </tr>\n",
       "    <tr>\n",
       "      <th>2</th>\n",
       "      <td>1970-01-01 20:16:37</td>\n",
       "    </tr>\n",
       "  </tbody>\n",
       "</table>\n",
       "</div>"
      ],
      "text/plain": [
       "           login_time\n",
       "0 1970-01-01 20:13:18\n",
       "1 1970-01-01 20:16:10\n",
       "2 1970-01-01 20:16:37"
      ]
     },
     "execution_count": 3,
     "metadata": {},
     "output_type": "execute_result"
    }
   ],
   "source": [
    "logins.head(3)"
   ]
  },
  {
   "cell_type": "code",
   "execution_count": 4,
   "id": "677c073e-b58b-457d-b4c0-b09c4fe37d93",
   "metadata": {},
   "outputs": [
    {
     "data": {
      "text/html": [
       "<div>\n",
       "<style scoped>\n",
       "    .dataframe tbody tr th:only-of-type {\n",
       "        vertical-align: middle;\n",
       "    }\n",
       "\n",
       "    .dataframe tbody tr th {\n",
       "        vertical-align: top;\n",
       "    }\n",
       "\n",
       "    .dataframe thead th {\n",
       "        text-align: right;\n",
       "    }\n",
       "</style>\n",
       "<table border=\"1\" class=\"dataframe\">\n",
       "  <thead>\n",
       "    <tr style=\"text-align: right;\">\n",
       "      <th></th>\n",
       "      <th>login_time</th>\n",
       "    </tr>\n",
       "  </thead>\n",
       "  <tbody>\n",
       "    <tr>\n",
       "      <th>count</th>\n",
       "      <td>93142</td>\n",
       "    </tr>\n",
       "    <tr>\n",
       "      <th>mean</th>\n",
       "      <td>1970-02-26 19:09:39.779648278</td>\n",
       "    </tr>\n",
       "    <tr>\n",
       "      <th>min</th>\n",
       "      <td>1970-01-01 20:12:16</td>\n",
       "    </tr>\n",
       "    <tr>\n",
       "      <th>25%</th>\n",
       "      <td>1970-02-04 10:37:19.750000</td>\n",
       "    </tr>\n",
       "    <tr>\n",
       "      <th>50%</th>\n",
       "      <td>1970-03-01 06:33:05.500000</td>\n",
       "    </tr>\n",
       "    <tr>\n",
       "      <th>75%</th>\n",
       "      <td>1970-03-22 04:01:10.750000</td>\n",
       "    </tr>\n",
       "    <tr>\n",
       "      <th>max</th>\n",
       "      <td>1970-04-13 18:57:38</td>\n",
       "    </tr>\n",
       "  </tbody>\n",
       "</table>\n",
       "</div>"
      ],
      "text/plain": [
       "                          login_time\n",
       "count                          93142\n",
       "mean   1970-02-26 19:09:39.779648278\n",
       "min              1970-01-01 20:12:16\n",
       "25%       1970-02-04 10:37:19.750000\n",
       "50%       1970-03-01 06:33:05.500000\n",
       "75%       1970-03-22 04:01:10.750000\n",
       "max              1970-04-13 18:57:38"
      ]
     },
     "execution_count": 4,
     "metadata": {},
     "output_type": "execute_result"
    }
   ],
   "source": [
    "logins.describe(datetime_is_numeric=True)"
   ]
  },
  {
   "cell_type": "markdown",
   "id": "5e861129-fcb7-4530-9032-15bf317e08c9",
   "metadata": {},
   "source": [
    "### Feature Engineer Logins"
   ]
  },
  {
   "cell_type": "code",
   "execution_count": 5,
   "id": "4bf80c02-a2e8-4690-9314-02bb53397721",
   "metadata": {},
   "outputs": [
    {
     "name": "stderr",
     "output_type": "stream",
     "text": [
      "C:\\Users\\Noah\\AppData\\Local\\Temp/ipykernel_12216/2768955691.py:5: FutureWarning: Series.dt.weekofyear and Series.dt.week have been deprecated.  Please use Series.dt.isocalendar().week instead.\n",
      "  logins['Week'] = logins.login_time.dt.week\n"
     ]
    }
   ],
   "source": [
    "# Create columns representing attributes of the login time so to quickly aggregate with them\n",
    "logins['15min'] = logins.login_time.dt.round('15min').dt.time.astype(str)\n",
    "logins['Hour'] = logins.login_time.dt.hour\n",
    "logins['Day of Year'] = logins.login_time.dt.dayofyear\n",
    "logins['Week'] = logins.login_time.dt.week\n",
    "logins['Weekday'] = logins.login_time.dt.weekday\n",
    "logins['Month'] = logins.login_time.dt.month"
   ]
  },
  {
   "cell_type": "code",
   "execution_count": 6,
   "id": "e23c120f-b4b6-4084-b079-59f4fed02e1d",
   "metadata": {},
   "outputs": [
    {
     "data": {
      "text/html": [
       "<div>\n",
       "<style scoped>\n",
       "    .dataframe tbody tr th:only-of-type {\n",
       "        vertical-align: middle;\n",
       "    }\n",
       "\n",
       "    .dataframe tbody tr th {\n",
       "        vertical-align: top;\n",
       "    }\n",
       "\n",
       "    .dataframe thead th {\n",
       "        text-align: right;\n",
       "    }\n",
       "</style>\n",
       "<table border=\"1\" class=\"dataframe\">\n",
       "  <thead>\n",
       "    <tr style=\"text-align: right;\">\n",
       "      <th></th>\n",
       "      <th>login_time</th>\n",
       "      <th>15min</th>\n",
       "      <th>Hour</th>\n",
       "      <th>Day of Year</th>\n",
       "      <th>Week</th>\n",
       "      <th>Weekday</th>\n",
       "      <th>Month</th>\n",
       "    </tr>\n",
       "  </thead>\n",
       "  <tbody>\n",
       "    <tr>\n",
       "      <th>0</th>\n",
       "      <td>1970-01-01 20:13:18</td>\n",
       "      <td>20:15:00</td>\n",
       "      <td>20</td>\n",
       "      <td>1</td>\n",
       "      <td>1</td>\n",
       "      <td>3</td>\n",
       "      <td>1</td>\n",
       "    </tr>\n",
       "    <tr>\n",
       "      <th>1</th>\n",
       "      <td>1970-01-01 20:16:10</td>\n",
       "      <td>20:15:00</td>\n",
       "      <td>20</td>\n",
       "      <td>1</td>\n",
       "      <td>1</td>\n",
       "      <td>3</td>\n",
       "      <td>1</td>\n",
       "    </tr>\n",
       "    <tr>\n",
       "      <th>2</th>\n",
       "      <td>1970-01-01 20:16:37</td>\n",
       "      <td>20:15:00</td>\n",
       "      <td>20</td>\n",
       "      <td>1</td>\n",
       "      <td>1</td>\n",
       "      <td>3</td>\n",
       "      <td>1</td>\n",
       "    </tr>\n",
       "  </tbody>\n",
       "</table>\n",
       "</div>"
      ],
      "text/plain": [
       "           login_time     15min  Hour  Day of Year  Week  Weekday  Month\n",
       "0 1970-01-01 20:13:18  20:15:00    20            1     1        3      1\n",
       "1 1970-01-01 20:16:10  20:15:00    20            1     1        3      1\n",
       "2 1970-01-01 20:16:37  20:15:00    20            1     1        3      1"
      ]
     },
     "execution_count": 6,
     "metadata": {},
     "output_type": "execute_result"
    }
   ],
   "source": [
    "# Show what the data now looks like\n",
    "logins.head(3)"
   ]
  },
  {
   "cell_type": "markdown",
   "id": "da2cc0a0-a292-4dcc-a9cc-8bfa5ed1683d",
   "metadata": {
    "tags": []
   },
   "source": [
    "### Total Logins per [Interval]"
   ]
  },
  {
   "cell_type": "code",
   "execution_count": 7,
   "id": "bac848bf-f42f-4dbb-bbba-433635d5c6f7",
   "metadata": {},
   "outputs": [],
   "source": [
    "# Defining a plotting helper function for line plots\n",
    "def line_plot(data, xlabel=False, ylabel=False, title=False, xticks=False, figsize=(20,5)):\n",
    "    plt.figure(figsize=figsize)\n",
    "    plt.plot(data)\n",
    "    if xlabel:\n",
    "        plt.xlabel(xlabel)\n",
    "    if ylabel:\n",
    "        plt.ylabel(ylabel)\n",
    "    if title:\n",
    "        plt.title(title)\n",
    "    if xticks:\n",
    "        plt.xticks(**xticks)\n",
    "    plt.show();"
   ]
  },
  {
   "cell_type": "markdown",
   "id": "2c8e8591-6d07-4bd2-a44c-c6af9ede36de",
   "metadata": {},
   "source": [
    "#### Logins / 15 Minutes"
   ]
  },
  {
   "cell_type": "code",
   "execution_count": 8,
   "id": "cc2785ad-63bc-4246-a6a2-a43b7e7351d1",
   "metadata": {},
   "outputs": [
    {
     "data": {
      "image/png": "[encoded data removed]",
      "text/plain": [
       "<Figure size 1440x360 with 1 Axes>"
      ]
     },
     "metadata": {},
     "output_type": "display_data"
    }
   ],
   "source": [
    "plot_data = logins.groupby('15min')[['login_time']].count()\n",
    "\n",
    "line_plot(plot_data, '15 Min Intervals', 'Logins', 'Total Count of Logins per 15 Minute Interval')"
   ]
  },
  {
   "cell_type": "markdown",
   "id": "675aac0b-33ca-49cf-a09b-9166ae6e5ede",
   "metadata": {},
   "source": [
    "#### Logins / Hour"
   ]
  },
  {
   "cell_type": "code",
   "execution_count": 9,
   "id": "8edd30fb-e608-41d5-afe1-e5b7073a3a0c",
   "metadata": {},
   "outputs": [
    {
     "data": {
      "image/png": "[encoded data removed]",
      "text/plain": [
       "<Figure size 1440x360 with 1 Axes>"
      ]
     },
     "metadata": {},
     "output_type": "display_data"
    }
   ],
   "source": [
    "plot_data = logins.groupby('Hour')[['login_time']].count()\n",
    "\n",
    "line_plot(plot_data, 'Hour', 'Logins', 'Total Count of Logins per Hour', xticks={'ticks':[i for i in range(0,24)]})"
   ]
  },
  {
   "cell_type": "markdown",
   "id": "e930695d-6cae-4ac0-8c6d-e7882d6c6e9c",
   "metadata": {},
   "source": [
    "*This is maybe the most telling visualization of Ultimate Tech's daily demand cycle*\n",
    "\n",
    "Gotham was described as most active at night and Metropolis during the day. That information coupled with this plot means that...\n",
    "- Peak use times:\n",
    "    - Gotham - 9:00PM-2:00AM, peak at 10:00PM\n",
    "    - Metropolis - 10:30-12:30PM, peak at 11:00AM\n",
    "    \n",
    "Also, the least trafficked time of the day is roughly from 6:00AM-9:00AM."
   ]
  },
  {
   "cell_type": "markdown",
   "id": "f98b5956-842e-4575-a1e1-86793104e11e",
   "metadata": {},
   "source": [
    "#### Logins / DOW"
   ]
  },
  {
   "cell_type": "code",
   "execution_count": 10,
   "id": "246ed55d-afe0-48d1-ba60-7b8a79719498",
   "metadata": {},
   "outputs": [
    {
     "data": {
      "image/png": "[encoded data removed]",
      "text/plain": [
       "<Figure size 1440x360 with 1 Axes>"
      ]
     },
     "metadata": {},
     "output_type": "display_data"
    }
   ],
   "source": [
    "plot_data = logins.groupby('Weekday')[['login_time']].count()\n",
    "\n",
    "line_plot(plot_data, 'Day of the Week', 'Total Logins', 'Total Logins per Day of the Week', xticks={'ticks':[i for i in range(0,7)],'labels':['Mon','Tue','Wed','Thu','Fri','Sat','Sun']})"
   ]
  },
  {
   "cell_type": "markdown",
   "id": "97186b94-2012-45d3-b22f-6b47def332c6",
   "metadata": {},
   "source": [
    "This trend was maybe easier to guess. Weekdays have substantially less logins than weekends, but going from Monday to Saturday the login rate increases at an increasing rate, but then decelerates on Sunday."
   ]
  },
  {
   "cell_type": "markdown",
   "id": "300a7987-1333-4f52-aa2a-c9029d1c990a",
   "metadata": {},
   "source": [
    "#### Logins / DOY"
   ]
  },
  {
   "cell_type": "code",
   "execution_count": 11,
   "id": "4f72108c-a3e1-4ded-a17a-4159edb216de",
   "metadata": {},
   "outputs": [
    {
     "data": {
      "image/png": "[encoded data removed]",
      "text/plain": [
       "<Figure size 1440x360 with 1 Axes>"
      ]
     },
     "metadata": {},
     "output_type": "display_data"
    }
   ],
   "source": [
    "plot_data = logins.groupby('Day of Year')[['login_time']].count()\n",
    "\n",
    "line_plot(plot_data, 'Day of the Year', 'Total Logins', 'Total Logins per Day of the Year', xticks={'ticks':[i for i in range(1,106,7)]})"
   ]
  },
  {
   "cell_type": "markdown",
   "id": "416b049d-9fd8-4ae3-a8e5-904014f7676b",
   "metadata": {},
   "source": [
    "Here again we see that logins are very cyclical week to week, but seem to be increasing in difference between a given week's maximum and minimum login amounts."
   ]
  },
  {
   "cell_type": "code",
   "execution_count": 12,
   "id": "4d24cf65-fbbe-4ae7-a7ae-d9bf5d663903",
   "metadata": {},
   "outputs": [
    {
     "data": {
      "image/png": "[encoded data removed]",
      "text/plain": [
       "<Figure size 1440x360 with 1 Axes>"
      ]
     },
     "metadata": {},
     "output_type": "display_data"
    }
   ],
   "source": [
    "plot_data = logins.groupby('Day of Year')[['login_time']].count().reset_index()\n",
    "\n",
    "plt.figure(figsize=(20,5))\n",
    "sns.regplot(data=plot_data, x='Day of Year', y='login_time')\n",
    "plt.title('Logins Per Day of the Year w/ Year Trend-Line');"
   ]
  },
  {
   "cell_type": "markdown",
   "id": "c540b6c9-1bc1-4901-8a75-e6596efbc10f",
   "metadata": {},
   "source": [
    "This plot contains the same data as the previous one, just with a trend line overlayed on it.\n",
    "\n",
    "*With the trend line it's apparent that logins, despite weekly ebbs and flows, are overall on the rise.*"
   ]
  },
  {
   "cell_type": "markdown",
   "id": "df9acaac-c8c9-438d-b21e-47bb20e02293",
   "metadata": {},
   "source": [
    "#### Logins / WOY"
   ]
  },
  {
   "cell_type": "code",
   "execution_count": 13,
   "id": "18daaa2b-b2f5-43d7-b836-f206c6514ca9",
   "metadata": {},
   "outputs": [
    {
     "data": {
      "image/png": "[encoded data removed]",
      "text/plain": [
       "<Figure size 1440x360 with 1 Axes>"
      ]
     },
     "metadata": {},
     "output_type": "display_data"
    }
   ],
   "source": [
    "plot_data = logins.groupby('Week')[['login_time']].count()\n",
    "\n",
    "line_plot(plot_data, 'Week of the Year', 'Total Logins', 'Total Logins per Week of the Year', xticks={'ticks':[i for i in range(0,17)]})"
   ]
  },
  {
   "cell_type": "markdown",
   "id": "cf4a8041-40db-45d1-83ee-a58dd096ec57",
   "metadata": {},
   "source": [
    "To really send this home, again, logins have generally been on the rise from week to week.\n",
    "\n",
    "*However*, the steep dropoff of logins from week 15 to week 16 is somewhat alarming. *Did something happen?*"
   ]
  },
  {
   "cell_type": "code",
   "execution_count": 14,
   "id": "f27a8efe-9e14-4a80-aa49-6e3b684e5196",
   "metadata": {},
   "outputs": [
    {
     "data": {
      "text/plain": [
       "array([ 96,  97,  98,  99, 100, 101, 102], dtype=int64)"
      ]
     },
     "execution_count": 14,
     "metadata": {},
     "output_type": "execute_result"
    }
   ],
   "source": [
    "# How many days are in week 15?\n",
    "logins.query('Week == 15')['Day of Year'].unique()"
   ]
  },
  {
   "cell_type": "code",
   "execution_count": 15,
   "id": "879b43ba-a53c-47cb-bd54-9cdaa59a7d29",
   "metadata": {},
   "outputs": [
    {
     "data": {
      "text/plain": [
       "array([103], dtype=int64)"
      ]
     },
     "execution_count": 15,
     "metadata": {},
     "output_type": "execute_result"
    }
   ],
   "source": [
    "# How many days are in week 16?\n",
    "logins.query('Week == 16')['Day of Year'].unique()"
   ]
  },
  {
   "cell_type": "markdown",
   "id": "90a4bcbb-fdad-4adb-ade8-ee9bf0427ff4",
   "metadata": {},
   "source": [
    "*False alarm*, after querying to find the unique amount of days per week 15 vs. week 16 it's apparent that week 16 only had one day captured.\n",
    "\n",
    "That is to say, the data ends on the first day of week 16, so interpreting 16 as a full week that just had substantially less logins is incorrect."
   ]
  },
  {
   "cell_type": "markdown",
   "id": "ec6e1e70-f52e-407e-9180-8b2956627551",
   "metadata": {},
   "source": [
    "# Part 2"
   ]
  },
  {
   "cell_type": "markdown",
   "id": "d9e81cb0-87d9-4eb5-993e-58f9c0071a52",
   "metadata": {},
   "source": [
    "2. Experiment and Metrics Design\n",
    "    - Gotham (Night), Metropolis (Day), Both (Weekends), toll-bridge w/ two-way toll causes drivers to be exclusive to their city.\n",
    "    - Proposed solution: Ultimate reimburses all toll costs\n",
    "    - What should the metric of success for encouraging drivers to serve both cities?\n",
    "    - Describe a practical experiment to compare effectiveness which relates to chosen metric of sucess. Provide details on:\n",
    "        - Implementation\n",
    "        - Statistical tests to verify significance\n",
    "        - Interpretation of results and recommendations to city operations team; with any caveats"
   ]
  },
  {
   "cell_type": "markdown",
   "id": "8de5f9ef-7478-42e9-9ac2-aa369d457d4b",
   "metadata": {},
   "source": [
    "## My Summary"
   ]
  },
  {
   "cell_type": "markdown",
   "id": "ea73af95-6efd-43ae-9056-1ac332373391",
   "metadata": {},
   "source": [
    "The experiment's goal is to encourage driver partners from Gotham to complete trips in Metropolis and vice versa. The intervention of the experiment would be to reimburse all toll-costs of tolls incurred by Ultimate Tech drivers passing on the connecting bridge."
   ]
  },
  {
   "cell_type": "markdown",
   "id": "2fd1ccda-0230-4d23-88d4-31555c958708",
   "metadata": {},
   "source": [
    "## Assumptions"
   ]
  },
  {
   "cell_type": "markdown",
   "id": "f499b356-48aa-4a91-981f-8d5980e7a224",
   "metadata": {},
   "source": [
    "- Only tolls for the bridge between Gotham and Metropolis would be reimbursed\n",
    "- Only tolls for driver partners who reside in Gotham or Metropolis' tolls are reimbursed\n",
    "- Data on _ is available:\n",
    "    - Driver's city of residence"
   ]
  },
  {
   "cell_type": "markdown",
   "id": "09bd3af5-141b-4488-9dea-f4ee27ae81c1",
   "metadata": {},
   "source": [
    "## Key Metric of Success"
   ]
  },
  {
   "cell_type": "markdown",
   "id": "36d71ac0-58ec-4a20-8537-7eaf4e2b02ac",
   "metadata": {},
   "source": [
    "Simple:\n",
    "1. Once the reimbursed toll costs are implemented drivers of either Gotham or Metropolis, who didn't cross the bridge before, now cross the bridge.\n",
    "2. Then they complete rides in the other city.\n",
    "    \n",
    "Better:\n",
    "1. Once the reimbursed toll costs are implemented drivers of either Gotham or Metropolis, who didn't cross the bridge before, now cross the bridge.\n",
    "2. Then they complete enough rides in the other city to both...\n",
    "    - Cover costs of tolls they incurred\n",
    "    - Produce more profit / revenue for Ultimate Tech than they produced before toll reimbursement"
   ]
  },
  {
   "cell_type": "markdown",
   "id": "ce13a819-dd4c-4992-8a16-9e1b98affdca",
   "metadata": {},
   "source": [
    "## Practical Experiment"
   ]
  },
  {
   "cell_type": "markdown",
   "id": "86e98823-4b00-4308-ad1c-c473c291e57f",
   "metadata": {},
   "source": [
    "### Implementation"
   ]
  },
  {
   "cell_type": "markdown",
   "id": "c276e1a7-aee5-4971-9a79-3db21939e2f5",
   "metadata": {},
   "source": [
    "Capture data on:\n",
    "- Tolls incurred per driver session\n",
    "- Revenue generated per session with tolls\n",
    "- Ratio of revenue to tolls per session\n",
    "- Profitability per driver before experiment and after\n",
    "\n",
    "The experiment would last 1 month."
   ]
  },
  {
   "cell_type": "markdown",
   "id": "dd97bffa-49ab-430a-9d67-a1228c8576d1",
   "metadata": {},
   "source": [
    "### Statistical Test to Verify Significance"
   ]
  },
  {
   "cell_type": "markdown",
   "id": "341ddb81-4ff0-4733-81b6-75a15dcb3d1c",
   "metadata": {},
   "source": [
    "#### Null Hypothesis"
   ]
  },
  {
   "cell_type": "markdown",
   "id": "5d80153e-4439-4d40-ac34-e828d820e5e0",
   "metadata": {},
   "source": [
    "The mean amount of drivers crossing the bridge after reimbursing toll costs remains the same or is less."
   ]
  },
  {
   "cell_type": "markdown",
   "id": "335b302a-a6b9-4514-b1c3-fb97da9fea69",
   "metadata": {},
   "source": [
    "#### Alternate Hypothesis"
   ]
  },
  {
   "cell_type": "markdown",
   "id": "eeace898-7ae5-441f-b357-df8edc194773",
   "metadata": {},
   "source": [
    "The mean amount of drivers crossing the bridge after reimbursing toll costs increases."
   ]
  },
  {
   "cell_type": "markdown",
   "id": "9ede8435-0e7d-494e-a490-a52f88e7d6df",
   "metadata": {},
   "source": [
    "#### Alpha Level"
   ]
  },
  {
   "cell_type": "markdown",
   "id": "6db59936-9532-4046-a58e-e4d1886b740d",
   "metadata": {},
   "source": [
    "The data for part 3 contains 50,000 unique users' data, so I'm going to assume that between Gotham and Metropolis there are at least 1,000 drivers to conduct this experiment on."
   ]
  },
  {
   "cell_type": "markdown",
   "id": "2e3f47e0-f3a5-4ce2-8ebb-95fcad311097",
   "metadata": {},
   "source": [
    "p > 0.05"
   ]
  },
  {
   "cell_type": "markdown",
   "id": "6cb34a96-f139-4047-a02c-1ad0ed032f7f",
   "metadata": {},
   "source": [
    "### Results & Recommendations"
   ]
  },
  {
   "cell_type": "markdown",
   "id": "b5e55b24-7dcc-4298-a883-c337e0babe6f",
   "metadata": {},
   "source": [
    "Assuming a statistically significant amount of drivers now cross the bridge, and that each of those drivers covers their costs and produces more profit for Ultimate, then continue reimbursing drivers. Otherwise, discontinue reimbursement."
   ]
  },
  {
   "cell_type": "markdown",
   "id": "ef7c8ef5-7192-48b1-a844-ce3269b9817c",
   "metadata": {},
   "source": [
    "# Part 3"
   ]
  },
  {
   "cell_type": "markdown",
   "id": "bf5ff2c8-b765-42dc-bfc4-ebbbd508660f",
   "metadata": {},
   "source": [
    "3. Predictive Modeling\n",
    "    - Predict rider retention using data of a cohort who signed up Jan. 2014, data was pulled several months later. Users are retained if active (took a trip) in the preceding 30 days\n",
    "    - Find the best predictors for retention, offer suggestions to operationalize those insights\n",
    "        - Clean, EDA, describe approach with sentences/plots\n",
    "        - Build a predictive model to determine whether or not a user will be active in their 6th month on the system.\n",
    "            - Dicuss approach, alternatives, concerns\n",
    "            - How valid is the model?\n",
    "            - Include indicators of model performance\n",
    "        - Briefly discuss how Ultimate might leverage insights from the model to improve long-term rider retention"
   ]
  },
  {
   "cell_type": "markdown",
   "id": "2c494a3f-4057-4cd9-abfd-cd44a955d778",
   "metadata": {
    "tags": []
   },
   "source": [
    "## Import Data"
   ]
  },
  {
   "cell_type": "code",
   "execution_count": 16,
   "id": "9905ac51-d1fe-4419-a4c3-85e6c5c1b483",
   "metadata": {},
   "outputs": [],
   "source": [
    "data = pd.read_json('ultimate_data_challenge.json')"
   ]
  },
  {
   "cell_type": "code",
   "execution_count": 17,
   "id": "793e61a2-d056-4a81-8cc1-906393a99652",
   "metadata": {},
   "outputs": [
    {
     "data": {
      "text/html": [
       "<div>\n",
       "<style scoped>\n",
       "    .dataframe tbody tr th:only-of-type {\n",
       "        vertical-align: middle;\n",
       "    }\n",
       "\n",
       "    .dataframe tbody tr th {\n",
       "        vertical-align: top;\n",
       "    }\n",
       "\n",
       "    .dataframe thead th {\n",
       "        text-align: right;\n",
       "    }\n",
       "</style>\n",
       "<table border=\"1\" class=\"dataframe\">\n",
       "  <thead>\n",
       "    <tr style=\"text-align: right;\">\n",
       "      <th></th>\n",
       "      <th>city</th>\n",
       "      <th>trips_in_first_30_days</th>\n",
       "      <th>signup_date</th>\n",
       "      <th>avg_rating_of_driver</th>\n",
       "      <th>avg_surge</th>\n",
       "      <th>last_trip_date</th>\n",
       "      <th>phone</th>\n",
       "      <th>surge_pct</th>\n",
       "      <th>ultimate_black_user</th>\n",
       "      <th>weekday_pct</th>\n",
       "      <th>avg_dist</th>\n",
       "      <th>avg_rating_by_driver</th>\n",
       "    </tr>\n",
       "  </thead>\n",
       "  <tbody>\n",
       "    <tr>\n",
       "      <th>0</th>\n",
       "      <td>King's Landing</td>\n",
       "      <td>4</td>\n",
       "      <td>2014-01-25</td>\n",
       "      <td>4.7</td>\n",
       "      <td>1.10</td>\n",
       "      <td>2014-06-17</td>\n",
       "      <td>iPhone</td>\n",
       "      <td>15.4</td>\n",
       "      <td>True</td>\n",
       "      <td>46.2</td>\n",
       "      <td>3.67</td>\n",
       "      <td>5.0</td>\n",
       "    </tr>\n",
       "    <tr>\n",
       "      <th>1</th>\n",
       "      <td>Astapor</td>\n",
       "      <td>0</td>\n",
       "      <td>2014-01-29</td>\n",
       "      <td>5.0</td>\n",
       "      <td>1.00</td>\n",
       "      <td>2014-05-05</td>\n",
       "      <td>Android</td>\n",
       "      <td>0.0</td>\n",
       "      <td>False</td>\n",
       "      <td>50.0</td>\n",
       "      <td>8.26</td>\n",
       "      <td>5.0</td>\n",
       "    </tr>\n",
       "    <tr>\n",
       "      <th>2</th>\n",
       "      <td>Astapor</td>\n",
       "      <td>3</td>\n",
       "      <td>2014-01-06</td>\n",
       "      <td>4.3</td>\n",
       "      <td>1.00</td>\n",
       "      <td>2014-01-07</td>\n",
       "      <td>iPhone</td>\n",
       "      <td>0.0</td>\n",
       "      <td>False</td>\n",
       "      <td>100.0</td>\n",
       "      <td>0.77</td>\n",
       "      <td>5.0</td>\n",
       "    </tr>\n",
       "    <tr>\n",
       "      <th>3</th>\n",
       "      <td>King's Landing</td>\n",
       "      <td>9</td>\n",
       "      <td>2014-01-10</td>\n",
       "      <td>4.6</td>\n",
       "      <td>1.14</td>\n",
       "      <td>2014-06-29</td>\n",
       "      <td>iPhone</td>\n",
       "      <td>20.0</td>\n",
       "      <td>True</td>\n",
       "      <td>80.0</td>\n",
       "      <td>2.36</td>\n",
       "      <td>4.9</td>\n",
       "    </tr>\n",
       "    <tr>\n",
       "      <th>4</th>\n",
       "      <td>Winterfell</td>\n",
       "      <td>14</td>\n",
       "      <td>2014-01-27</td>\n",
       "      <td>4.4</td>\n",
       "      <td>1.19</td>\n",
       "      <td>2014-03-15</td>\n",
       "      <td>Android</td>\n",
       "      <td>11.8</td>\n",
       "      <td>False</td>\n",
       "      <td>82.4</td>\n",
       "      <td>3.13</td>\n",
       "      <td>4.9</td>\n",
       "    </tr>\n",
       "  </tbody>\n",
       "</table>\n",
       "</div>"
      ],
      "text/plain": [
       "             city  trips_in_first_30_days signup_date  avg_rating_of_driver  \\\n",
       "0  King's Landing                       4  2014-01-25                   4.7   \n",
       "1         Astapor                       0  2014-01-29                   5.0   \n",
       "2         Astapor                       3  2014-01-06                   4.3   \n",
       "3  King's Landing                       9  2014-01-10                   4.6   \n",
       "4      Winterfell                      14  2014-01-27                   4.4   \n",
       "\n",
       "   avg_surge last_trip_date    phone  surge_pct  ultimate_black_user  \\\n",
       "0       1.10     2014-06-17   iPhone       15.4                 True   \n",
       "1       1.00     2014-05-05  Android        0.0                False   \n",
       "2       1.00     2014-01-07   iPhone        0.0                False   \n",
       "3       1.14     2014-06-29   iPhone       20.0                 True   \n",
       "4       1.19     2014-03-15  Android       11.8                False   \n",
       "\n",
       "   weekday_pct  avg_dist  avg_rating_by_driver  \n",
       "0         46.2      3.67                   5.0  \n",
       "1         50.0      8.26                   5.0  \n",
       "2        100.0      0.77                   5.0  \n",
       "3         80.0      2.36                   4.9  \n",
       "4         82.4      3.13                   4.9  "
      ]
     },
     "execution_count": 17,
     "metadata": {},
     "output_type": "execute_result"
    }
   ],
   "source": [
    "data.head()"
   ]
  },
  {
   "cell_type": "markdown",
   "id": "6734fc24-768e-4b94-a98d-be2b33d69f7c",
   "metadata": {},
   "source": [
    "### Initial EDA"
   ]
  },
  {
   "cell_type": "code",
   "execution_count": 18,
   "id": "d52a0bd4-b75a-4665-9db2-cab2ef7bb6b9",
   "metadata": {},
   "outputs": [
    {
     "name": "stdout",
     "output_type": "stream",
     "text": [
      "<class 'pandas.core.frame.DataFrame'>\n",
      "RangeIndex: 50000 entries, 0 to 49999\n",
      "Data columns (total 12 columns):\n",
      " #   Column                  Non-Null Count  Dtype  \n",
      "---  ------                  --------------  -----  \n",
      " 0   city                    50000 non-null  object \n",
      " 1   trips_in_first_30_days  50000 non-null  int64  \n",
      " 2   signup_date             50000 non-null  object \n",
      " 3   avg_rating_of_driver    41878 non-null  float64\n",
      " 4   avg_surge               50000 non-null  float64\n",
      " 5   last_trip_date          50000 non-null  object \n",
      " 6   phone                   49604 non-null  object \n",
      " 7   surge_pct               50000 non-null  float64\n",
      " 8   ultimate_black_user     50000 non-null  bool   \n",
      " 9   weekday_pct             50000 non-null  float64\n",
      " 10  avg_dist                50000 non-null  float64\n",
      " 11  avg_rating_by_driver    49799 non-null  float64\n",
      "dtypes: bool(1), float64(6), int64(1), object(4)\n",
      "memory usage: 4.2+ MB\n"
     ]
    }
   ],
   "source": [
    "data.info()"
   ]
  },
  {
   "cell_type": "code",
   "execution_count": 19,
   "id": "2d400cc2-7487-456e-b239-41e2154f3303",
   "metadata": {},
   "outputs": [],
   "source": [
    "# Convert string dates to Pandas datetime type\n",
    "data['signup_date'] = pd.to_datetime(data['signup_date'])\n",
    "data['last_trip_date'] = pd.to_datetime(data['last_trip_date'])"
   ]
  },
  {
   "cell_type": "markdown",
   "id": "5ef18590-11a6-4066-b99c-18009674bfc6",
   "metadata": {},
   "source": [
    "avg_rating_of_driver, phone, and avg_rating_by_driver are partly null, but it seems like those are just instances of users / drivers not entering information. It could be by choice or circumstance, but right now it seems inconsequential."
   ]
  },
  {
   "cell_type": "markdown",
   "id": "2635ba1e-cb0c-4dac-a7ff-01ddb22a0a13",
   "metadata": {},
   "source": [
    "### Feature Engineering"
   ]
  },
  {
   "cell_type": "markdown",
   "id": "fb28c74f-421e-4d8e-a422-df13e53b0a22",
   "metadata": {
    "tags": []
   },
   "source": [
    "#### Active User (T/F)"
   ]
  },
  {
   "cell_type": "markdown",
   "id": "51116978-fa0c-4df6-876e-e7647938ff75",
   "metadata": {},
   "source": [
    "1. This data pertains to users who signed up for an Ultimate account in January 2014\n",
    "2. Users are considered retained if they took a trip in the preceding 30 days\n",
    "3. i.e. if the value in trips_in_first_30_days is greater than 0 they are an active user"
   ]
  },
  {
   "cell_type": "code",
   "execution_count": 20,
   "id": "1e8e40d9-6ca8-433a-8236-ea5b441583a1",
   "metadata": {},
   "outputs": [],
   "source": [
    "# Create a new column denoting whether a user is active or not\n",
    "data['active_user'] = data['trips_in_first_30_days'] > 0\n",
    "data['active_user'] = data['active_user'].astype(int)"
   ]
  },
  {
   "cell_type": "markdown",
   "id": "06c52e57-515b-4513-8d1f-9bfb31a8ce97",
   "metadata": {},
   "source": [
    "#### Active in 6th Month"
   ]
  },
  {
   "cell_type": "code",
   "execution_count": 21,
   "id": "33cef979-c9f9-48bd-aa2d-8b893360cfb3",
   "metadata": {},
   "outputs": [],
   "source": [
    "from datetime import timedelta"
   ]
  },
  {
   "cell_type": "code",
   "execution_count": 22,
   "id": "4ea1d467-0973-4ecd-b9d3-17c4c7c3a4bb",
   "metadata": {},
   "outputs": [],
   "source": [
    "# Create a column which represents whether a user's last trip happened 5 months (5 x 30 days) after their signup date\n",
    "data['active_6month'] = data.last_trip_date > (data.signup_date + timedelta(days=5*30))\n",
    "data['active_6month'] = data['active_6month'].astype(int)"
   ]
  },
  {
   "cell_type": "code",
   "execution_count": 23,
   "id": "8b0ae944-d003-456c-bd3f-cc0d6acad4e5",
   "metadata": {},
   "outputs": [
    {
     "data": {
      "text/plain": [
       "12198"
      ]
     },
     "execution_count": 23,
     "metadata": {},
     "output_type": "execute_result"
    }
   ],
   "source": [
    "# How many users are active in their 6th month, or greater, from their signup date?\n",
    "data.active_6month.sum()"
   ]
  },
  {
   "cell_type": "markdown",
   "id": "30aacb7a-e380-4a46-b9f0-dbd2f5eda44a",
   "metadata": {},
   "source": [
    "#### Convert Dates to Numeric"
   ]
  },
  {
   "cell_type": "markdown",
   "id": "7b6f3d8d-e537-4d2c-a730-0b9ee354df7b",
   "metadata": {},
   "source": [
    "Converting dates from more human friendly format to a pure integer will be helpful for machine learning and computing feature relationships later"
   ]
  },
  {
   "cell_type": "code",
   "execution_count": 24,
   "id": "0b88eb4b-d7e2-4ac2-834f-5a637c7c56fd",
   "metadata": {},
   "outputs": [],
   "source": [
    "# Convert signup_date\n",
    "data['signup_date'] = data['signup_date'].dt.strftime(\"%Y%m%d\").astype(int)"
   ]
  },
  {
   "cell_type": "code",
   "execution_count": 25,
   "id": "d40f8f71-1508-417b-a8d1-4da6f928dc36",
   "metadata": {},
   "outputs": [],
   "source": [
    "# Convert last_trip_date\n",
    "data['last_trip_date'] = data['last_trip_date'].dt.strftime(\"%Y%m%d\").astype(int)"
   ]
  },
  {
   "cell_type": "markdown",
   "id": "7830bb15-280b-4590-83cd-6dce4313c832",
   "metadata": {},
   "source": [
    "#### Convert Bool to Numeric"
   ]
  },
  {
   "cell_type": "code",
   "execution_count": 26,
   "id": "a581ac3e-bb64-4713-9e43-f5a9dcb00a81",
   "metadata": {},
   "outputs": [],
   "source": [
    "# Convert ultimate_black_user\n",
    "data['ultimate_black_user'] = data.ultimate_black_user.astype(int)"
   ]
  },
  {
   "cell_type": "markdown",
   "id": "080f5568-c348-4dd1-9bd3-7937b74fac1b",
   "metadata": {},
   "source": [
    "## EDA"
   ]
  },
  {
   "cell_type": "markdown",
   "id": "daa87327-674a-4e26-b860-e2617ddae0b8",
   "metadata": {},
   "source": [
    "### Non-Visual"
   ]
  },
  {
   "cell_type": "code",
   "execution_count": 27,
   "id": "0745fb53-8de4-4820-86c6-3ab3fd7aae9f",
   "metadata": {},
   "outputs": [
    {
     "data": {
      "text/plain": [
       "city                         3\n",
       "trips_in_first_30_days      59\n",
       "signup_date                 31\n",
       "avg_rating_of_driver        37\n",
       "avg_surge                  115\n",
       "last_trip_date             182\n",
       "phone                        2\n",
       "surge_pct                  367\n",
       "ultimate_black_user          2\n",
       "weekday_pct                666\n",
       "avg_dist                  2908\n",
       "avg_rating_by_driver        27\n",
       "active_user                  2\n",
       "active_6month                2\n",
       "dtype: int64"
      ]
     },
     "execution_count": 27,
     "metadata": {},
     "output_type": "execute_result"
    }
   ],
   "source": [
    "# Show the number of unique values per feature\n",
    "data.nunique()"
   ]
  },
  {
   "cell_type": "code",
   "execution_count": 28,
   "id": "533dfc6a-2b4d-4ec6-8c4d-b657a3e4c735",
   "metadata": {},
   "outputs": [],
   "source": [
    "# Define a function to show the unique values of features with 10 or less unique values in a DataFrame\n",
    "def feature_unique_values_to_df(df):\n",
    "    '''Receive a DataFrame, find columns with 10 or less unique values, and return a DataFrame that shows the unique values'''\n",
    "    \n",
    "    from collections import defaultdict\n",
    "    \n",
    "    # Initiate an empty default-dictionary\n",
    "    unique_values = defaultdict(list)\n",
    "\n",
    "    # Find the columns with fewer than 10 unique values\n",
    "    categories = df.loc[:, df.nunique() <= 10].columns\n",
    "\n",
    "    # Save each of those column's unique values in a dictionary\n",
    "    max_unique = 0\n",
    "    for cat in categories:\n",
    "        unique = df[cat].unique().tolist()\n",
    "        len_unique = len(unique)\n",
    "        unique_values[cat] = unique\n",
    "        max_unique = max(max_unique, len_unique)\n",
    "\n",
    "    # Fill dictionary values with - to match the length of the column with the most unique features\n",
    "    for key, val in unique_values.items():\n",
    "        if len(val) < max_unique:\n",
    "            diff = max_unique - len(val)\n",
    "            unique_values[key].extend(['-'] * diff)\n",
    "\n",
    "    # Convert the unique values dictionary to a DataFrame and return it\n",
    "    return pd.DataFrame(unique_values).T"
   ]
  },
  {
   "cell_type": "code",
   "execution_count": 29,
   "id": "24ee2cee-7ad4-46a0-9681-aaaa08e05a5d",
   "metadata": {},
   "outputs": [
    {
     "data": {
      "text/html": [
       "<div>\n",
       "<style scoped>\n",
       "    .dataframe tbody tr th:only-of-type {\n",
       "        vertical-align: middle;\n",
       "    }\n",
       "\n",
       "    .dataframe tbody tr th {\n",
       "        vertical-align: top;\n",
       "    }\n",
       "\n",
       "    .dataframe thead th {\n",
       "        text-align: right;\n",
       "    }\n",
       "</style>\n",
       "<table border=\"1\" class=\"dataframe\">\n",
       "  <thead>\n",
       "    <tr style=\"text-align: right;\">\n",
       "      <th></th>\n",
       "      <th>0</th>\n",
       "      <th>1</th>\n",
       "      <th>2</th>\n",
       "    </tr>\n",
       "  </thead>\n",
       "  <tbody>\n",
       "    <tr>\n",
       "      <th>city</th>\n",
       "      <td>King's Landing</td>\n",
       "      <td>Astapor</td>\n",
       "      <td>Winterfell</td>\n",
       "    </tr>\n",
       "    <tr>\n",
       "      <th>phone</th>\n",
       "      <td>iPhone</td>\n",
       "      <td>Android</td>\n",
       "      <td>None</td>\n",
       "    </tr>\n",
       "    <tr>\n",
       "      <th>ultimate_black_user</th>\n",
       "      <td>1</td>\n",
       "      <td>0</td>\n",
       "      <td>-</td>\n",
       "    </tr>\n",
       "    <tr>\n",
       "      <th>active_user</th>\n",
       "      <td>1</td>\n",
       "      <td>0</td>\n",
       "      <td>-</td>\n",
       "    </tr>\n",
       "    <tr>\n",
       "      <th>active_6month</th>\n",
       "      <td>0</td>\n",
       "      <td>1</td>\n",
       "      <td>-</td>\n",
       "    </tr>\n",
       "  </tbody>\n",
       "</table>\n",
       "</div>"
      ],
      "text/plain": [
       "                                  0        1           2\n",
       "city                 King's Landing  Astapor  Winterfell\n",
       "phone                        iPhone  Android        None\n",
       "ultimate_black_user               1        0           -\n",
       "active_user                       1        0           -\n",
       "active_6month                     0        1           -"
      ]
     },
     "execution_count": 29,
     "metadata": {},
     "output_type": "execute_result"
    }
   ],
   "source": [
    "# Find columns with 10 or less unique values, and return a DataFrame that shows the unique values\n",
    "feature_unique_values_to_df(data)"
   ]
  },
  {
   "cell_type": "code",
   "execution_count": 30,
   "id": "b16e703b-bde1-4d4c-8e79-9290fdd6b58b",
   "metadata": {},
   "outputs": [
    {
     "data": {
      "text/html": [
       "<div>\n",
       "<style scoped>\n",
       "    .dataframe tbody tr th:only-of-type {\n",
       "        vertical-align: middle;\n",
       "    }\n",
       "\n",
       "    .dataframe tbody tr th {\n",
       "        vertical-align: top;\n",
       "    }\n",
       "\n",
       "    .dataframe thead th {\n",
       "        text-align: right;\n",
       "    }\n",
       "</style>\n",
       "<table border=\"1\" class=\"dataframe\">\n",
       "  <thead>\n",
       "    <tr style=\"text-align: right;\">\n",
       "      <th></th>\n",
       "      <th>trips_in_first_30_days</th>\n",
       "      <th>signup_date</th>\n",
       "      <th>avg_rating_of_driver</th>\n",
       "      <th>avg_surge</th>\n",
       "      <th>last_trip_date</th>\n",
       "      <th>surge_pct</th>\n",
       "      <th>ultimate_black_user</th>\n",
       "      <th>weekday_pct</th>\n",
       "      <th>avg_dist</th>\n",
       "      <th>avg_rating_by_driver</th>\n",
       "      <th>active_user</th>\n",
       "      <th>active_6month</th>\n",
       "    </tr>\n",
       "  </thead>\n",
       "  <tbody>\n",
       "    <tr>\n",
       "      <th>count</th>\n",
       "      <td>50000.000000</td>\n",
       "      <td>5.000000e+04</td>\n",
       "      <td>41878.000000</td>\n",
       "      <td>50000.000000</td>\n",
       "      <td>5.000000e+04</td>\n",
       "      <td>50000.000000</td>\n",
       "      <td>50000.00000</td>\n",
       "      <td>50000.000000</td>\n",
       "      <td>50000.000000</td>\n",
       "      <td>49799.000000</td>\n",
       "      <td>50000.000000</td>\n",
       "      <td>50000.000000</td>\n",
       "    </tr>\n",
       "    <tr>\n",
       "      <th>mean</th>\n",
       "      <td>2.278200</td>\n",
       "      <td>2.014012e+07</td>\n",
       "      <td>4.601559</td>\n",
       "      <td>1.074764</td>\n",
       "      <td>2.014042e+07</td>\n",
       "      <td>8.849536</td>\n",
       "      <td>0.37708</td>\n",
       "      <td>60.926084</td>\n",
       "      <td>5.796827</td>\n",
       "      <td>4.778158</td>\n",
       "      <td>0.692200</td>\n",
       "      <td>0.243960</td>\n",
       "    </tr>\n",
       "    <tr>\n",
       "      <th>std</th>\n",
       "      <td>3.792684</td>\n",
       "      <td>8.754220e+00</td>\n",
       "      <td>0.617338</td>\n",
       "      <td>0.222336</td>\n",
       "      <td>2.004353e+02</td>\n",
       "      <td>19.958811</td>\n",
       "      <td>0.48466</td>\n",
       "      <td>37.081503</td>\n",
       "      <td>5.707357</td>\n",
       "      <td>0.446652</td>\n",
       "      <td>0.461588</td>\n",
       "      <td>0.429473</td>\n",
       "    </tr>\n",
       "    <tr>\n",
       "      <th>min</th>\n",
       "      <td>0.000000</td>\n",
       "      <td>2.014010e+07</td>\n",
       "      <td>1.000000</td>\n",
       "      <td>1.000000</td>\n",
       "      <td>2.014010e+07</td>\n",
       "      <td>0.000000</td>\n",
       "      <td>0.00000</td>\n",
       "      <td>0.000000</td>\n",
       "      <td>0.000000</td>\n",
       "      <td>1.000000</td>\n",
       "      <td>0.000000</td>\n",
       "      <td>0.000000</td>\n",
       "    </tr>\n",
       "    <tr>\n",
       "      <th>25%</th>\n",
       "      <td>0.000000</td>\n",
       "      <td>2.014011e+07</td>\n",
       "      <td>4.300000</td>\n",
       "      <td>1.000000</td>\n",
       "      <td>2.014021e+07</td>\n",
       "      <td>0.000000</td>\n",
       "      <td>0.00000</td>\n",
       "      <td>33.300000</td>\n",
       "      <td>2.420000</td>\n",
       "      <td>4.700000</td>\n",
       "      <td>0.000000</td>\n",
       "      <td>0.000000</td>\n",
       "    </tr>\n",
       "    <tr>\n",
       "      <th>50%</th>\n",
       "      <td>1.000000</td>\n",
       "      <td>2.014012e+07</td>\n",
       "      <td>4.900000</td>\n",
       "      <td>1.000000</td>\n",
       "      <td>2.014051e+07</td>\n",
       "      <td>0.000000</td>\n",
       "      <td>0.00000</td>\n",
       "      <td>66.700000</td>\n",
       "      <td>3.880000</td>\n",
       "      <td>5.000000</td>\n",
       "      <td>1.000000</td>\n",
       "      <td>0.000000</td>\n",
       "    </tr>\n",
       "    <tr>\n",
       "      <th>75%</th>\n",
       "      <td>3.000000</td>\n",
       "      <td>2.014012e+07</td>\n",
       "      <td>5.000000</td>\n",
       "      <td>1.050000</td>\n",
       "      <td>2.014062e+07</td>\n",
       "      <td>8.600000</td>\n",
       "      <td>1.00000</td>\n",
       "      <td>100.000000</td>\n",
       "      <td>6.940000</td>\n",
       "      <td>5.000000</td>\n",
       "      <td>1.000000</td>\n",
       "      <td>0.000000</td>\n",
       "    </tr>\n",
       "    <tr>\n",
       "      <th>max</th>\n",
       "      <td>125.000000</td>\n",
       "      <td>2.014013e+07</td>\n",
       "      <td>5.000000</td>\n",
       "      <td>8.000000</td>\n",
       "      <td>2.014070e+07</td>\n",
       "      <td>100.000000</td>\n",
       "      <td>1.00000</td>\n",
       "      <td>100.000000</td>\n",
       "      <td>160.960000</td>\n",
       "      <td>5.000000</td>\n",
       "      <td>1.000000</td>\n",
       "      <td>1.000000</td>\n",
       "    </tr>\n",
       "  </tbody>\n",
       "</table>\n",
       "</div>"
      ],
      "text/plain": [
       "       trips_in_first_30_days   signup_date  avg_rating_of_driver  \\\n",
       "count            50000.000000  5.000000e+04          41878.000000   \n",
       "mean                 2.278200  2.014012e+07              4.601559   \n",
       "std                  3.792684  8.754220e+00              0.617338   \n",
       "min                  0.000000  2.014010e+07              1.000000   \n",
       "25%                  0.000000  2.014011e+07              4.300000   \n",
       "50%                  1.000000  2.014012e+07              4.900000   \n",
       "75%                  3.000000  2.014012e+07              5.000000   \n",
       "max                125.000000  2.014013e+07              5.000000   \n",
       "\n",
       "          avg_surge  last_trip_date     surge_pct  ultimate_black_user  \\\n",
       "count  50000.000000    5.000000e+04  50000.000000          50000.00000   \n",
       "mean       1.074764    2.014042e+07      8.849536              0.37708   \n",
       "std        0.222336    2.004353e+02     19.958811              0.48466   \n",
       "min        1.000000    2.014010e+07      0.000000              0.00000   \n",
       "25%        1.000000    2.014021e+07      0.000000              0.00000   \n",
       "50%        1.000000    2.014051e+07      0.000000              0.00000   \n",
       "75%        1.050000    2.014062e+07      8.600000              1.00000   \n",
       "max        8.000000    2.014070e+07    100.000000              1.00000   \n",
       "\n",
       "        weekday_pct      avg_dist  avg_rating_by_driver   active_user  \\\n",
       "count  50000.000000  50000.000000          49799.000000  50000.000000   \n",
       "mean      60.926084      5.796827              4.778158      0.692200   \n",
       "std       37.081503      5.707357              0.446652      0.461588   \n",
       "min        0.000000      0.000000              1.000000      0.000000   \n",
       "25%       33.300000      2.420000              4.700000      0.000000   \n",
       "50%       66.700000      3.880000              5.000000      1.000000   \n",
       "75%      100.000000      6.940000              5.000000      1.000000   \n",
       "max      100.000000    160.960000              5.000000      1.000000   \n",
       "\n",
       "       active_6month  \n",
       "count   50000.000000  \n",
       "mean        0.243960  \n",
       "std         0.429473  \n",
       "min         0.000000  \n",
       "25%         0.000000  \n",
       "50%         0.000000  \n",
       "75%         0.000000  \n",
       "max         1.000000  "
      ]
     },
     "execution_count": 30,
     "metadata": {},
     "output_type": "execute_result"
    }
   ],
   "source": [
    "# Statistically describe each numeric column in the data\n",
    "data.describe(datetime_is_numeric=True)"
   ]
  },
  {
   "cell_type": "code",
   "execution_count": 31,
   "id": "c8024723-5750-479b-af26-79cee7ee2778",
   "metadata": {},
   "outputs": [
    {
     "data": {
      "text/plain": [
       "0    31146\n",
       "1    18854\n",
       "Name: ultimate_black_user, dtype: int64"
      ]
     },
     "execution_count": 31,
     "metadata": {},
     "output_type": "execute_result"
    }
   ],
   "source": [
    "# How many users are and aren't Ultimate Black Users?\n",
    "data.ultimate_black_user.value_counts()"
   ]
  },
  {
   "cell_type": "code",
   "execution_count": 32,
   "id": "a3c5831b-0898-421e-8e4c-e26fe470ae0e",
   "metadata": {},
   "outputs": [
    {
     "data": {
      "text/plain": [
       "1    34610\n",
       "0    15390\n",
       "Name: active_user, dtype: int64"
      ]
     },
     "execution_count": 32,
     "metadata": {},
     "output_type": "execute_result"
    }
   ],
   "source": [
    "# How many users are and aren't active users?\n",
    "data.active_user.value_counts()"
   ]
  },
  {
   "cell_type": "markdown",
   "id": "b7afde8e-e8be-4def-b81d-71735fdf0c72",
   "metadata": {},
   "source": [
    "### Visual"
   ]
  },
  {
   "cell_type": "markdown",
   "id": "4697cdcb-b822-4165-9ee8-56a6c776ff8d",
   "metadata": {},
   "source": [
    "**trips_in_first_30_days**"
   ]
  },
  {
   "cell_type": "code",
   "execution_count": 33,
   "id": "3dab05ce-0ac4-4261-8968-3294c90dbc94",
   "metadata": {},
   "outputs": [
    {
     "data": {
      "image/png": "[encoded data removed]",
      "text/plain": [
       "<Figure size 1440x360 with 1 Axes>"
      ]
     },
     "metadata": {},
     "output_type": "display_data"
    }
   ],
   "source": [
    "plt.figure(figsize=(20,5))\n",
    "sns.ecdfplot(data=data, x='trips_in_first_30_days', hue='active_6month')\n",
    "plt.xticks(ticks=[0,1,2,3,4,5,10,30])\n",
    "plt.xlim(right=30)\n",
    "plt.title('trips_in_first_30_days');"
   ]
  },
  {
   "cell_type": "markdown",
   "id": "90d5bf90-693d-42ba-ba4d-d39536c1846e",
   "metadata": {},
   "source": [
    "Retained users took more trips in their first 30 days than non-retained users did"
   ]
  },
  {
   "cell_type": "markdown",
   "id": "a9f4b5f5-5cfa-42db-9536-3a1e63d9ecce",
   "metadata": {},
   "source": [
    "**avg_rating_of_driver**"
   ]
  },
  {
   "cell_type": "code",
   "execution_count": 34,
   "id": "2e3dcf4f-6b26-40dc-8dee-4fa331781d3f",
   "metadata": {},
   "outputs": [
    {
     "data": {
      "image/png": "[encoded data removed]",
      "text/plain": [
       "<Figure size 1440x360 with 1 Axes>"
      ]
     },
     "metadata": {},
     "output_type": "display_data"
    }
   ],
   "source": [
    "plt.figure(figsize=(20,5))\n",
    "sns.ecdfplot(data=data, x='avg_rating_of_driver', hue='active_6month')\n",
    "plt.title('AVG Rating of Drivers');"
   ]
  },
  {
   "cell_type": "markdown",
   "id": "9af2dfca-a1e1-412f-9a2c-947fd9af1c29",
   "metadata": {},
   "source": [
    "Retained users rated their drivers more highly than non-retained users"
   ]
  },
  {
   "cell_type": "markdown",
   "id": "d93fe5cb-eb40-4a54-b415-0f0435775d24",
   "metadata": {},
   "source": [
    "**avg_rating_by_driver**"
   ]
  },
  {
   "cell_type": "code",
   "execution_count": 35,
   "id": "17199d10-8758-445c-8688-ccfbd53766c5",
   "metadata": {},
   "outputs": [
    {
     "data": {
      "image/png": "[encoded data removed]",
      "text/plain": [
       "<Figure size 1440x360 with 1 Axes>"
      ]
     },
     "metadata": {},
     "output_type": "display_data"
    }
   ],
   "source": [
    "plt.figure(figsize=(20,5))\n",
    "sns.ecdfplot(data=data, x='avg_rating_by_driver', hue='active_6month')\n",
    "plt.title('AVG Rating by Drivers');"
   ]
  },
  {
   "cell_type": "markdown",
   "id": "8328c09a-7474-4366-bed7-a40813cd0009",
   "metadata": {},
   "source": [
    "Retained users were more highly rated by drivers than non-retained"
   ]
  },
  {
   "cell_type": "markdown",
   "id": "11de0fd7-a4eb-4624-a2d1-1a99517a1431",
   "metadata": {},
   "source": [
    "**avg_surge**"
   ]
  },
  {
   "cell_type": "code",
   "execution_count": 36,
   "id": "f88a0455-4a82-4bab-8b0c-26b1f3969753",
   "metadata": {},
   "outputs": [
    {
     "data": {
      "image/png": "[encoded data removed]",
      "text/plain": [
       "<Figure size 1440x360 with 1 Axes>"
      ]
     },
     "metadata": {},
     "output_type": "display_data"
    }
   ],
   "source": [
    "plt.figure(figsize=(20,5))\n",
    "sns.ecdfplot(data=data, x='avg_surge', hue='active_6month')\n",
    "plt.xlim(right=3)\n",
    "plt.title('AVG Surge Over All Users\\' Trips');"
   ]
  },
  {
   "cell_type": "markdown",
   "id": "93ca6d10-7686-4e9a-9d11-0bc0c885dcb5",
   "metadata": {},
   "source": [
    "Retained users had higher surge multipliers than non-retained users"
   ]
  },
  {
   "cell_type": "markdown",
   "id": "1176eb41-594d-4a96-9b36-9a1b9b88550b",
   "metadata": {},
   "source": [
    "**surge_pct**"
   ]
  },
  {
   "cell_type": "code",
   "execution_count": 37,
   "id": "116dd100-5ba1-4303-85d7-4639e1fe1c9c",
   "metadata": {},
   "outputs": [
    {
     "data": {
      "image/png": "[encoded data removed]",
      "text/plain": [
       "<Figure size 1440x360 with 1 Axes>"
      ]
     },
     "metadata": {},
     "output_type": "display_data"
    }
   ],
   "source": [
    "plt.figure(figsize=(20,5))\n",
    "sns.ecdfplot(data=data, x='surge_pct', hue='active_6month')\n",
    "plt.title('Surge %');"
   ]
  },
  {
   "cell_type": "markdown",
   "id": "a50a3d3e-9d50-4c71-adac-216abeb355b9",
   "metadata": {},
   "source": [
    "Retained users took more trips with a surge multiplier > 1"
   ]
  },
  {
   "cell_type": "markdown",
   "id": "92b33285-9293-4da3-aeb1-3d70f4e09266",
   "metadata": {},
   "source": [
    "**weekday_pct**"
   ]
  },
  {
   "cell_type": "code",
   "execution_count": 38,
   "id": "8bf40a50-7c6f-4a99-b62d-6b7457029a8e",
   "metadata": {},
   "outputs": [
    {
     "data": {
      "image/png": "[encoded data removed]",
      "text/plain": [
       "<Figure size 1440x360 with 1 Axes>"
      ]
     },
     "metadata": {},
     "output_type": "display_data"
    }
   ],
   "source": [
    "plt.figure(figsize=(20,5))\n",
    "sns.ecdfplot(data=data, x='weekday_pct', hue='active_6month')\n",
    "plt.title('Weekday %');"
   ]
  },
  {
   "cell_type": "markdown",
   "id": "b87607a7-46a7-4df5-8ff5-1cfa3bbeaf7f",
   "metadata": {},
   "source": [
    "Retained users had higher percentage of total rides being on weekdays"
   ]
  },
  {
   "cell_type": "markdown",
   "id": "d3755384-4a86-400a-8920-0a95721a163e",
   "metadata": {},
   "source": [
    "**avg_dist**"
   ]
  },
  {
   "cell_type": "code",
   "execution_count": 39,
   "id": "77824411-7678-42ca-858a-54bbe3bdb7ae",
   "metadata": {},
   "outputs": [
    {
     "data": {
      "image/png": "[encoded data removed]",
      "text/plain": [
       "<Figure size 1440x360 with 1 Axes>"
      ]
     },
     "metadata": {},
     "output_type": "display_data"
    }
   ],
   "source": [
    "plt.figure(figsize=(20,5))\n",
    "sns.ecdfplot(data=data, x='avg_dist', hue='active_6month')\n",
    "plt.xlim(right=40)\n",
    "plt.title('AVG 1st 30 Days Trip Distance');"
   ]
  },
  {
   "cell_type": "markdown",
   "id": "90a9df45-886d-4049-b48b-356909c04ced",
   "metadata": {},
   "source": [
    "Retained users trips in their first 30 days, on average, were longer by miles"
   ]
  },
  {
   "cell_type": "markdown",
   "id": "0040c448-df77-4f62-938a-8fd2e7aa2844",
   "metadata": {},
   "source": [
    "**phone**"
   ]
  },
  {
   "cell_type": "code",
   "execution_count": 40,
   "id": "d584d2af-cd29-4f4d-866c-e3aa267cf418",
   "metadata": {},
   "outputs": [
    {
     "data": {
      "image/png": "[encoded data removed]",
      "text/plain": [
       "<Figure size 720x360 with 1 Axes>"
      ]
     },
     "metadata": {},
     "output_type": "display_data"
    }
   ],
   "source": [
    "plt.figure(figsize=(10,5))\n",
    "sns.histplot(data=data, x='city', hue='active_6month', multiple='dodge')\n",
    "plt.title('Number of Users per City');"
   ]
  },
  {
   "cell_type": "markdown",
   "id": "b556f52e-1271-43b8-b271-dc03bbc09e93",
   "metadata": {},
   "source": [
    "Proportionally, there were far fewer retained users from Astapor city than there were non-retained users"
   ]
  },
  {
   "cell_type": "code",
   "execution_count": 41,
   "id": "7ed1539f-0b40-4ce5-be6b-f88d9567480b",
   "metadata": {},
   "outputs": [
    {
     "data": {
      "image/png": "[encoded data removed]",
      "text/plain": [
       "<Figure size 720x360 with 1 Axes>"
      ]
     },
     "metadata": {},
     "output_type": "display_data"
    }
   ],
   "source": [
    "plt.figure(figsize=(10,5))\n",
    "sns.histplot(data=data, x='phone', hue='active_6month', multiple='dodge')\n",
    "plt.title('Quantity of Users per Phone Type');"
   ]
  },
  {
   "cell_type": "markdown",
   "id": "3a8d7b8c-e9b7-46d1-ab69-d66c89f70105",
   "metadata": {},
   "source": [
    "Proportionally, retained users more often have iPhones than non-retained users"
   ]
  },
  {
   "cell_type": "markdown",
   "id": "a8ba86fe-3bbe-499b-9556-39c726837fb5",
   "metadata": {},
   "source": [
    "## Predictors of Retention"
   ]
  },
  {
   "cell_type": "markdown",
   "id": "a3d587d0-0073-4967-bc96-b81859d32341",
   "metadata": {},
   "source": [
    "### Feature Engineering"
   ]
  },
  {
   "cell_type": "markdown",
   "id": "1709f9e4-a3d1-4ae4-a2a7-c299239f362a",
   "metadata": {},
   "source": [
    "I found that converting all data types to numeric before calculating correlation heatmaps is helpful. It shows more variables that otherwise can't be shown because they're text."
   ]
  },
  {
   "cell_type": "code",
   "execution_count": 42,
   "id": "c57ff0df-f5f0-4b9f-8e1b-a9b4335d824f",
   "metadata": {},
   "outputs": [],
   "source": [
    "# Convert categorical columns to numerical, for ML\n",
    "data = pd.get_dummies(data)"
   ]
  },
  {
   "cell_type": "markdown",
   "id": "abdfb6f9-b4f2-48aa-8c72-1e81ebf30dc0",
   "metadata": {
    "tags": []
   },
   "source": [
    "### Feature Relationships"
   ]
  },
  {
   "cell_type": "code",
   "execution_count": 43,
   "id": "e8520ccd-214a-4fbd-9a25-c53c137fdbde",
   "metadata": {},
   "outputs": [],
   "source": [
    "def gen_corr_to_target(dataframe, target, title=None, annot=False, save=None):\n",
    "    '''\n",
    "    'Generate a correlation heatmap between the target feature and other features.'\n",
    "    \n",
    "    Args:\n",
    "        dataframe (Pandas DataFrame): Contains relevant data\n",
    "        target (string): Column name, which is within the passed DataFrame, that's to be targeted\n",
    "        title (string): If passed, then adds title via matplotlib plt.title\n",
    "        annot (boolean): If True, then annotates values per square on matrix heatmap\n",
    "        save (boolean): If True, then uses save_and_show_plot function to save plot as a .png, then displays plot\n",
    "        \n",
    "    Returns:\n",
    "        None. Displays the produced plot.\n",
    "    '''\n",
    "    plt.figure(figsize=(4, 6))\n",
    "    sns.set(font_scale=1)\n",
    "\n",
    "    sns.heatmap(dataframe.corr()[[target]].sort_values(target, ascending=False)[1:], vmin=-1, vmax=1,\n",
    "                center=0, annot=annot, cmap='bwr')\n",
    "\n",
    "    if title:\n",
    "        plt.title(f'\\n{title}\\n', fontsize=18)\n",
    "        \n",
    "    if save:\n",
    "        filepath = title + '.png'\n",
    "        save_and_show_plot(filepath)"
   ]
  },
  {
   "cell_type": "markdown",
   "id": "91fdbf69-e32b-494d-9f5b-0551b2bba003",
   "metadata": {},
   "source": [
    "Let's focus on the features which correlate with the target variable, active_6month, which is whether a user was active 6 months after signing up."
   ]
  },
  {
   "cell_type": "code",
   "execution_count": 44,
   "id": "bb5f543d-0478-4684-84d1-a5a8089d7e5c",
   "metadata": {},
   "outputs": [
    {
     "data": {
      "image/png": "[encoded data removed]",
      "text/plain": [
       "<Figure size 288x432 with 2 Axes>"
      ]
     },
     "metadata": {},
     "output_type": "display_data"
    }
   ],
   "source": [
    "# Generate a heatmap that shows the correlation between all features against active_6month\n",
    "gen_corr_to_target(data, 'active_6month', annot=True)"
   ]
  },
  {
   "cell_type": "markdown",
   "id": "a198c5e0-6c3b-4c2e-aabd-e45d8e76b916",
   "metadata": {},
   "source": [
    "last_trip_date has the highest correlation with active_6month, but this isn't helpful. last_trip_date essentially just tells us what we already know, that the user is active in their 6th month; It tells us about the present but can't help us about the future. signup_date, for the same reasoning, is not helpful.\n",
    "\n",
    "*However*, trips_in_first_30_days, city, phone type, ultimate_black_user are helpful. active_user and avg_dist are less highly correlating, but may also prove helpful."
   ]
  },
  {
   "cell_type": "markdown",
   "id": "6165b30f-418f-456f-8ea1-2d403f0fe1a7",
   "metadata": {
    "tags": []
   },
   "source": [
    "## Predictive Modeling"
   ]
  },
  {
   "cell_type": "markdown",
   "id": "e4f1d161-5eeb-45bc-87ca-2428d2cbbcc5",
   "metadata": {},
   "source": [
    "### Data Cleaning"
   ]
  },
  {
   "cell_type": "markdown",
   "id": "eab0355f-b42c-4a8f-88d3-3a6ccc0286b9",
   "metadata": {},
   "source": [
    "I put off cleaning null values until now so that visualization and relationships wouldn't be tainted with fabricated data. However, for machine learning there can't be null values, so I'll fill the nulls with the best educated guess I've got."
   ]
  },
  {
   "cell_type": "code",
   "execution_count": 45,
   "id": "d9593e86-1ec5-4169-a4a6-98b9dbeb3989",
   "metadata": {},
   "outputs": [],
   "source": [
    "# Fill the columns with null values with the average value of their columns\n",
    "# I chose the average because of the central tendency around the means that thee features have\n",
    "data.avg_rating_of_driver.fillna(data.avg_rating_of_driver.mean(), inplace=True)\n",
    "data.avg_rating_by_driver.fillna(data.avg_rating_by_driver.mean(), inplace=True)"
   ]
  },
  {
   "cell_type": "markdown",
   "id": "060651dd-13fa-4b6b-9ecf-163b51c95571",
   "metadata": {
    "tags": []
   },
   "source": [
    "### Split Training / Testing Data"
   ]
  },
  {
   "cell_type": "code",
   "execution_count": 46,
   "id": "de84bee0-6b77-4b2c-b0af-e9068186bc56",
   "metadata": {},
   "outputs": [],
   "source": [
    "from sklearn.model_selection import train_test_split"
   ]
  },
  {
   "cell_type": "code",
   "execution_count": 47,
   "id": "a935f948-a19a-4b42-b32a-2d07430bc6b4",
   "metadata": {},
   "outputs": [],
   "source": [
    "# Remove unhelpful features from data\n",
    "model_data = data.drop(columns='last_trip_date')\n",
    "\n",
    "# Separate the target variable (active_user, y) from the predictor variables (X)\n",
    "X = model_data.drop('active_6month', axis=1)\n",
    "y = model_data['active_6month']\n",
    "\n",
    "# Randomly separate the data into training and testing sets\n",
    "# Defined randomness for reproducibility\n",
    "X_train, X_test, y_train, y_test = train_test_split(X, y, test_size=0.25, random_state=0)"
   ]
  },
  {
   "cell_type": "markdown",
   "id": "76e3b412-b746-4867-8492-d2acfdcad125",
   "metadata": {},
   "source": [
    "### Model Exploration"
   ]
  },
  {
   "cell_type": "code",
   "execution_count": 48,
   "id": "31676b40-6509-451b-98f0-5efe47320836",
   "metadata": {},
   "outputs": [],
   "source": [
    "# Import relevant packages\n",
    "from sklearn.linear_model import LogisticRegression\n",
    "from sklearn.tree import DecisionTreeClassifier\n",
    "from sklearn.neighbors import KNeighborsClassifier\n",
    "from sklearn.ensemble import RandomForestClassifier, AdaBoostClassifier"
   ]
  },
  {
   "cell_type": "code",
   "execution_count": 49,
   "id": "05b0555a-9f9d-46eb-a960-d8eb19a85ef2",
   "metadata": {},
   "outputs": [],
   "source": [
    "# Create a dictionary to save model names, their performance, and the time it took to train it\n",
    "model_performance_dict = {}"
   ]
  },
  {
   "cell_type": "code",
   "execution_count": 50,
   "id": "a5bdab00-e398-48af-a7a8-efade9360567",
   "metadata": {},
   "outputs": [],
   "source": [
    "def runModel_savePerformance(model_name, model):\n",
    "    \"\"\"Fit the model to training data, score each fold with a given metric, then add elapsed-time and\n",
    "    the performance scores to the given dictionary.\"\"\"\n",
    "    \n",
    "    # Import cross validation function\n",
    "    from sklearn.model_selection import cross_validate\n",
    "    \n",
    "    # Save the results of 5 fold cross validation over the training data with the given model\n",
    "    cv = cross_validate(model, X_train, y_train, cv=5, scoring=['accuracy','f1','precision','recall'])\n",
    "    \n",
    "    # Save averaged model performance metrics\n",
    "    model_performance_dict[model_name] = {'Fit Time (s)':np.mean(cv['fit_time']), 'Accuracy':np.mean(cv['test_accuracy']), 'f1':round(np.mean(cv['test_f1']), 4), 'Precision':np.mean(cv['test_precision']), 'Recall':np.mean(cv['test_recall'])}"
   ]
  },
  {
   "cell_type": "markdown",
   "id": "fcc584da-cc44-419d-9742-deb09ad58841",
   "metadata": {},
   "source": [
    "**Logistic Regression**"
   ]
  },
  {
   "cell_type": "code",
   "execution_count": 51,
   "id": "41f4794a-d14d-4f94-abe0-70548d7450eb",
   "metadata": {},
   "outputs": [
    {
     "name": "stderr",
     "output_type": "stream",
     "text": [
      "C:\\Users\\Noah\\anaconda3\\lib\\site-packages\\sklearn\\metrics\\_classification.py:1248: UndefinedMetricWarning: Precision is ill-defined and being set to 0.0 due to no predicted samples. Use `zero_division` parameter to control this behavior.\n",
      "  _warn_prf(average, modifier, msg_start, len(result))\n",
      "C:\\Users\\Noah\\anaconda3\\lib\\site-packages\\sklearn\\metrics\\_classification.py:1248: UndefinedMetricWarning: Precision is ill-defined and being set to 0.0 due to no predicted samples. Use `zero_division` parameter to control this behavior.\n",
      "  _warn_prf(average, modifier, msg_start, len(result))\n",
      "C:\\Users\\Noah\\anaconda3\\lib\\site-packages\\sklearn\\metrics\\_classification.py:1248: UndefinedMetricWarning: Precision is ill-defined and being set to 0.0 due to no predicted samples. Use `zero_division` parameter to control this behavior.\n",
      "  _warn_prf(average, modifier, msg_start, len(result))\n",
      "C:\\Users\\Noah\\anaconda3\\lib\\site-packages\\sklearn\\metrics\\_classification.py:1248: UndefinedMetricWarning: Precision is ill-defined and being set to 0.0 due to no predicted samples. Use `zero_division` parameter to control this behavior.\n",
      "  _warn_prf(average, modifier, msg_start, len(result))\n",
      "C:\\Users\\Noah\\anaconda3\\lib\\site-packages\\sklearn\\metrics\\_classification.py:1248: UndefinedMetricWarning: Precision is ill-defined and being set to 0.0 due to no predicted samples. Use `zero_division` parameter to control this behavior.\n",
      "  _warn_prf(average, modifier, msg_start, len(result))\n"
     ]
    }
   ],
   "source": [
    "model = LogisticRegression(random_state=0, max_iter=1000)\n",
    "\n",
    "runModel_savePerformance('Logistic Regression', model)"
   ]
  },
  {
   "cell_type": "markdown",
   "id": "ee6e777e-f0e0-4181-8f32-39f52b2f92e8",
   "metadata": {},
   "source": [
    "**Decision Tree Classification**"
   ]
  },
  {
   "cell_type": "code",
   "execution_count": 52,
   "id": "6842f36a-d1c1-44a5-9114-d3409a93944f",
   "metadata": {},
   "outputs": [],
   "source": [
    "model = DecisionTreeClassifier()\n",
    "\n",
    "runModel_savePerformance('Tree', model)"
   ]
  },
  {
   "cell_type": "markdown",
   "id": "4e650179-a07a-4b03-84aa-5c7169151802",
   "metadata": {},
   "source": [
    "**KNN Classification**"
   ]
  },
  {
   "cell_type": "code",
   "execution_count": 53,
   "id": "4fd7ddeb-40c9-47c7-9239-2e6a058ddcaa",
   "metadata": {},
   "outputs": [],
   "source": [
    "model = KNeighborsClassifier()\n",
    "\n",
    "runModel_savePerformance('KNN', model)"
   ]
  },
  {
   "cell_type": "markdown",
   "id": "dea35626-6037-48df-88f2-f3e15074189e",
   "metadata": {},
   "source": [
    "**Random Forest Classification**"
   ]
  },
  {
   "cell_type": "code",
   "execution_count": 54,
   "id": "d3770897-05ef-4c66-8b1a-0fa3421b291d",
   "metadata": {},
   "outputs": [],
   "source": [
    "model = RandomForestClassifier(random_state=0)\n",
    "\n",
    "runModel_savePerformance('Random Forest', model)"
   ]
  },
  {
   "cell_type": "markdown",
   "id": "3c03712b-ec86-4290-a822-03ead633ad17",
   "metadata": {},
   "source": [
    "**AdaBoost Classification**"
   ]
  },
  {
   "cell_type": "code",
   "execution_count": 55,
   "id": "997ee467-7c61-4dc8-a221-e0a7c0c64d4a",
   "metadata": {},
   "outputs": [],
   "source": [
    "model = AdaBoostClassifier(random_state=0)\n",
    "\n",
    "runModel_savePerformance('AdaBoost', model)"
   ]
  },
  {
   "cell_type": "markdown",
   "id": "c497cde6-4dfb-4cbf-9320-d4e1a8a92942",
   "metadata": {},
   "source": [
    "#### Exploration Results"
   ]
  },
  {
   "cell_type": "code",
   "execution_count": 56,
   "id": "3aa0c3b4-cf0a-4218-b451-f41690247337",
   "metadata": {},
   "outputs": [],
   "source": [
    "# Convert the saved model performances from a dictionary to a DataFrame with the model names as indexes\n",
    "model_performance_df = pd.DataFrame(model_performance_dict).T\n",
    "\n",
    "# Sort the values by Accuracy DESC then Runtime ASC\n",
    "model_performance_df = model_performance_df.sort_values(by=['f1','Fit Time (s)'], ascending=[False, True])\n",
    "\n",
    "# Style the DataFrame to appropriately highlight the best value per metric\n",
    "model_performance_df_styled = model_performance_df.style.highlight_max(subset=['f1','Accuracy','Precision','Recall'], color='#b5ff9e', axis=0).highlight_min(subset='Fit Time (s)', color='#b5ff9e', axis=0)\n",
    "\n",
    "# Style the DataFrame to only show 4 floating points\n",
    "model_performance_df_styled = model_performance_df_styled.format('{:.4f}')"
   ]
  },
  {
   "cell_type": "code",
   "execution_count": 57,
   "id": "15303c12-6c37-42cd-8c25-e89c0b2b4322",
   "metadata": {},
   "outputs": [
    {
     "data": {
      "text/html": [
       "<style type=\"text/css\">\n",
       "#T_e6e8b_row0_col1, #T_e6e8b_row0_col2, #T_e6e8b_row0_col3, #T_e6e8b_row3_col4, #T_e6e8b_row4_col0 {\n",
       "  background-color: #b5ff9e;\n",
       "}\n",
       "</style>\n",
       "<table id=\"T_e6e8b_\">\n",
       "  <thead>\n",
       "    <tr>\n",
       "      <th class=\"blank level0\" >&nbsp;</th>\n",
       "      <th class=\"col_heading level0 col0\" >Fit Time (s)</th>\n",
       "      <th class=\"col_heading level0 col1\" >Accuracy</th>\n",
       "      <th class=\"col_heading level0 col2\" >f1</th>\n",
       "      <th class=\"col_heading level0 col3\" >Precision</th>\n",
       "      <th class=\"col_heading level0 col4\" >Recall</th>\n",
       "    </tr>\n",
       "  </thead>\n",
       "  <tbody>\n",
       "    <tr>\n",
       "      <th id=\"T_e6e8b_level0_row0\" class=\"row_heading level0 row0\" >AdaBoost</th>\n",
       "      <td id=\"T_e6e8b_row0_col0\" class=\"data row0 col0\" >1.4493</td>\n",
       "      <td id=\"T_e6e8b_row0_col1\" class=\"data row0 col1\" >0.8202</td>\n",
       "      <td id=\"T_e6e8b_row0_col2\" class=\"data row0 col2\" >0.5747</td>\n",
       "      <td id=\"T_e6e8b_row0_col3\" class=\"data row0 col3\" >0.6816</td>\n",
       "      <td id=\"T_e6e8b_row0_col4\" class=\"data row0 col4\" >0.4969</td>\n",
       "    </tr>\n",
       "    <tr>\n",
       "      <th id=\"T_e6e8b_level0_row1\" class=\"row_heading level0 row1\" >Random Forest</th>\n",
       "      <td id=\"T_e6e8b_row1_col0\" class=\"data row1 col0\" >4.5971</td>\n",
       "      <td id=\"T_e6e8b_row1_col1\" class=\"data row1 col1\" >0.8114</td>\n",
       "      <td id=\"T_e6e8b_row1_col2\" class=\"data row1 col2\" >0.5557</td>\n",
       "      <td id=\"T_e6e8b_row1_col3\" class=\"data row1 col3\" >0.6553</td>\n",
       "      <td id=\"T_e6e8b_row1_col4\" class=\"data row1 col4\" >0.4825</td>\n",
       "    </tr>\n",
       "    <tr>\n",
       "      <th id=\"T_e6e8b_level0_row2\" class=\"row_heading level0 row2\" >KNN</th>\n",
       "      <td id=\"T_e6e8b_row2_col0\" class=\"data row2 col0\" >0.4954</td>\n",
       "      <td id=\"T_e6e8b_row2_col1\" class=\"data row2 col1\" >0.7838</td>\n",
       "      <td id=\"T_e6e8b_row2_col2\" class=\"data row2 col2\" >0.5012</td>\n",
       "      <td id=\"T_e6e8b_row2_col3\" class=\"data row2 col3\" >0.5751</td>\n",
       "      <td id=\"T_e6e8b_row2_col4\" class=\"data row2 col4\" >0.4443</td>\n",
       "    </tr>\n",
       "    <tr>\n",
       "      <th id=\"T_e6e8b_level0_row3\" class=\"row_heading level0 row3\" >Tree</th>\n",
       "      <td id=\"T_e6e8b_row3_col0\" class=\"data row3 col0\" >0.2440</td>\n",
       "      <td id=\"T_e6e8b_row3_col1\" class=\"data row3 col1\" >0.7487</td>\n",
       "      <td id=\"T_e6e8b_row3_col2\" class=\"data row3 col2\" >0.4947</td>\n",
       "      <td id=\"T_e6e8b_row3_col3\" class=\"data row3 col3\" >0.4867</td>\n",
       "      <td id=\"T_e6e8b_row3_col4\" class=\"data row3 col4\" >0.5030</td>\n",
       "    </tr>\n",
       "    <tr>\n",
       "      <th id=\"T_e6e8b_level0_row4\" class=\"row_heading level0 row4\" >Logistic Regression</th>\n",
       "      <td id=\"T_e6e8b_row4_col0\" class=\"data row4 col0\" >0.1526</td>\n",
       "      <td id=\"T_e6e8b_row4_col1\" class=\"data row4 col1\" >0.7554</td>\n",
       "      <td id=\"T_e6e8b_row4_col2\" class=\"data row4 col2\" >0.0000</td>\n",
       "      <td id=\"T_e6e8b_row4_col3\" class=\"data row4 col3\" >0.0000</td>\n",
       "      <td id=\"T_e6e8b_row4_col4\" class=\"data row4 col4\" >0.0000</td>\n",
       "    </tr>\n",
       "  </tbody>\n",
       "</table>\n"
      ],
      "text/plain": [
       "<pandas.io.formats.style.Styler at 0x2a0c2fce790>"
      ]
     },
     "execution_count": 57,
     "metadata": {},
     "output_type": "execute_result"
    }
   ],
   "source": [
    "# Show the sorted model performances DataFrame\n",
    "model_performance_df_styled"
   ]
  },
  {
   "cell_type": "markdown",
   "id": "ddf4443f-4d27-43a8-9e0f-a41a9adb68ce",
   "metadata": {},
   "source": [
    "### Final Model"
   ]
  },
  {
   "cell_type": "markdown",
   "id": "46fef0fa-c74d-4c40-8bc9-fb4d07409b02",
   "metadata": {},
   "source": [
    "*Of the untuned models AdaBoost performed the best overall. However, Ultimate is interested in how to leverage the insights from the model to improve long term rider retention.*\n",
    "\n",
    "With this in mind, a decision tree with \"shallow\" depth is more interpretable. Furthermore, Adaboost's accuracy was 82% and Decision Tree's was 75%, each essentially choosing 3/4 correct; both were essentially 3/4 correct.\n",
    "\n",
    "**I'll be moving forward with Decision Tree as the final model**, and I'll tune its hyperparameters for improved performance and interpretability."
   ]
  },
  {
   "cell_type": "markdown",
   "id": "96086307-1fd1-4a99-89a6-88e89f5fbc5c",
   "metadata": {},
   "source": [
    "#### Best Hyperparameters"
   ]
  },
  {
   "cell_type": "code",
   "execution_count": 58,
   "id": "e0333d99-e5b9-4044-92ff-904fb38c3f95",
   "metadata": {},
   "outputs": [],
   "source": [
    "from sklearn.model_selection import GridSearchCV"
   ]
  },
  {
   "cell_type": "code",
   "execution_count": 59,
   "id": "7e1427ca-8575-432a-b654-7474ec9a3a33",
   "metadata": {},
   "outputs": [],
   "source": [
    "# Create a Decision Tree model, a distribution of hyperparameters to search over for best perforamnce, and a Grid Search Cross-Validator object.\n",
    "tree = DecisionTreeClassifier(random_state=0)\n",
    "param_grid = {'max_depth':[2,3,4],'criterion':['gini','entropy']}\n",
    "GSCV = GridSearchCV(tree, param_grid=param_grid, n_jobs=3, cv=4, scoring=['accuracy','recall','precision'], refit='accuracy')"
   ]
  },
  {
   "cell_type": "code",
   "execution_count": 60,
   "id": "6613101b-9e2e-4d29-a65c-67a326c9fa7d",
   "metadata": {},
   "outputs": [
    {
     "data": {
      "text/plain": [
       "GridSearchCV(cv=4, estimator=DecisionTreeClassifier(random_state=0), n_jobs=3,\n",
       "             param_grid={'criterion': ['gini', 'entropy'],\n",
       "                         'max_depth': [2, 3, 4]},\n",
       "             refit='accuracy', scoring=['accuracy', 'recall', 'precision'])"
      ]
     },
     "execution_count": 60,
     "metadata": {},
     "output_type": "execute_result"
    }
   ],
   "source": [
    "# Fit the Grid Search Cross-Validator to the training data\n",
    "GSCV.fit(X_train, y_train)"
   ]
  },
  {
   "cell_type": "code",
   "execution_count": 61,
   "id": "2228f5ce-e7fd-44c9-89d1-f2c60de821dd",
   "metadata": {},
   "outputs": [
    {
     "data": {
      "text/plain": [
       "0.7913066666666667"
      ]
     },
     "execution_count": 61,
     "metadata": {},
     "output_type": "execute_result"
    }
   ],
   "source": [
    "GSCV.best_score_"
   ]
  },
  {
   "cell_type": "code",
   "execution_count": 62,
   "id": "86a455e9-1830-45b0-93e8-ff5b0f878ddc",
   "metadata": {},
   "outputs": [
    {
     "data": {
      "text/plain": [
       "{'criterion': 'gini', 'max_depth': 4}"
      ]
     },
     "execution_count": 62,
     "metadata": {},
     "output_type": "execute_result"
    }
   ],
   "source": [
    "GSCV.best_params_"
   ]
  },
  {
   "cell_type": "markdown",
   "id": "6f69acca-ee80-4133-acd3-2862ef6306be",
   "metadata": {},
   "source": [
    "#### Training"
   ]
  },
  {
   "cell_type": "code",
   "execution_count": 63,
   "id": "8affadf6-3b34-4a77-94f1-a589583aaa40",
   "metadata": {},
   "outputs": [],
   "source": [
    "# Train the final tree with the best found parameters\n",
    "final_model = DecisionTreeClassifier(**GSCV.best_params_)"
   ]
  },
  {
   "cell_type": "code",
   "execution_count": 64,
   "id": "6d467061-3043-4525-9601-11ca0de48859",
   "metadata": {},
   "outputs": [
    {
     "data": {
      "text/plain": [
       "DecisionTreeClassifier(max_depth=4)"
      ]
     },
     "execution_count": 64,
     "metadata": {},
     "output_type": "execute_result"
    }
   ],
   "source": [
    "# Fit the model to the training data\n",
    "final_model.fit(X_train, y_train)"
   ]
  },
  {
   "cell_type": "markdown",
   "id": "ede5402c-b703-43fc-a42a-5cf19d00661e",
   "metadata": {
    "tags": []
   },
   "source": [
    "#### Predictions"
   ]
  },
  {
   "cell_type": "code",
   "execution_count": 65,
   "id": "ed27655f-819e-42d5-ba45-056a84978669",
   "metadata": {},
   "outputs": [],
   "source": [
    "# Predict the target variable with the holdout test data\n",
    "y_pred = final_model.predict(X_test)"
   ]
  },
  {
   "cell_type": "markdown",
   "id": "ff304261-3938-44c5-9293-7a3468e54f6c",
   "metadata": {},
   "source": [
    "#### Accuracy"
   ]
  },
  {
   "cell_type": "code",
   "execution_count": 66,
   "id": "879927a9-e07e-459d-87fb-218ef85c4e9d",
   "metadata": {},
   "outputs": [
    {
     "data": {
      "text/plain": [
       "0.79408"
      ]
     },
     "execution_count": 66,
     "metadata": {},
     "output_type": "execute_result"
    }
   ],
   "source": [
    "# Calculate the accuracy score of the final model against holdout test data\n",
    "final_model.score(X_test, y_test)"
   ]
  },
  {
   "cell_type": "markdown",
   "id": "5fda99f4-26ea-4031-96f2-d5aa2998f61a",
   "metadata": {},
   "source": [
    "#### Classification Report"
   ]
  },
  {
   "cell_type": "code",
   "execution_count": 67,
   "id": "6ec798e4-79d2-47e3-b141-a15136d03fde",
   "metadata": {},
   "outputs": [],
   "source": [
    "from sklearn.metrics import classification_report"
   ]
  },
  {
   "cell_type": "code",
   "execution_count": 68,
   "id": "ba471df4-6ba2-43a1-afa2-917af82d8ce6",
   "metadata": {},
   "outputs": [
    {
     "name": "stdout",
     "output_type": "stream",
     "text": [
      "              precision    recall  f1-score   support\n",
      "\n",
      "           0       0.83      0.92      0.87      9473\n",
      "           1       0.62      0.39      0.48      3027\n",
      "\n",
      "    accuracy                           0.79     12500\n",
      "   macro avg       0.72      0.66      0.68     12500\n",
      "weighted avg       0.78      0.79      0.78     12500\n",
      "\n"
     ]
    }
   ],
   "source": [
    "print(classification_report(y_test, y_pred))"
   ]
  },
  {
   "cell_type": "markdown",
   "id": "3ae09db4-bc4c-46b5-b0fb-34cd118ae104",
   "metadata": {},
   "source": [
    "#### Tree Visualization"
   ]
  },
  {
   "cell_type": "markdown",
   "id": "7165680b-a446-4ab0-836d-cf5b5521117f",
   "metadata": {},
   "source": [
    "Let's visualize the final model to understand how it predicted who would be retained or not"
   ]
  },
  {
   "cell_type": "code",
   "execution_count": 69,
   "id": "566c740d-ac81-4320-9b05-9bc978137a6d",
   "metadata": {},
   "outputs": [],
   "source": [
    "import graphviz\n",
    "from sklearn.tree import export_graphviz"
   ]
  },
  {
   "cell_type": "code",
   "execution_count": 70,
   "id": "e751c747-0273-4479-a256-0a3659050dd6",
   "metadata": {},
   "outputs": [
    {
     "data": {
      "image/svg+xml": [
       "<?xml version=\"1.0\" encoding=\"UTF-8\" standalone=\"no\"?>\r\n",
       "<!DOCTYPE svg PUBLIC \"-//W3C//DTD SVG 1.1//EN\"\r\n",
       " \"http://www.w3.org/Graphics/SVG/1.1/DTD/svg11.dtd\">\r\n",
       "<!-- Generated by graphviz version 2.38.0 (20140413.2041)\r\n",
       " -->\r\n",
       "<!-- Title: Tree Pages: 1 -->\r\n",
       "<svg width=\"2742pt\" height=\"552pt\"\r\n",
       " viewBox=\"0.00 0.00 2742.00 552.00\" xmlns=\"http://www.w3.org/2000/svg\" xmlns:xlink=\"http://www.w3.org/1999/xlink\">\r\n",
       "<g id=\"graph0\" class=\"graph\" transform=\"scale(1 1) rotate(0) translate(4 548)\">\r\n",
       "<title>Tree</title>\r\n",
       "<polygon fill=\"white\" stroke=\"none\" points=\"-4,4 -4,-548 2738,-548 2738,4 -4,4\"/>\r\n",
       "<!-- 0 -->\r\n",
       "<g id=\"node1\" class=\"node\"><title>0</title>\r\n",
       "<path fill=\"#edaa79\" stroke=\"black\" d=\"M1438,-544C1438,-544 1270,-544 1270,-544 1264,-544 1258,-538 1258,-532 1258,-532 1258,-473 1258,-473 1258,-467 1264,-461 1270,-461 1270,-461 1438,-461 1438,-461 1444,-461 1450,-467 1450,-473 1450,-473 1450,-532 1450,-532 1450,-538 1444,-544 1438,-544\"/>\r\n",
       "<text text-anchor=\"start\" x=\"1266\" y=\"-528.8\" font-family=\"Helvetica,sans-Serif\" font-size=\"14.00\">avg_rating_by_driver ≤ 4.95</text>\r\n",
       "<text text-anchor=\"start\" x=\"1320.5\" y=\"-513.8\" font-family=\"Helvetica,sans-Serif\" font-size=\"14.00\">gini = 0.37</text>\r\n",
       "<text text-anchor=\"start\" x=\"1294\" y=\"-498.8\" font-family=\"Helvetica,sans-Serif\" font-size=\"14.00\">samples = 100.0%</text>\r\n",
       "<text text-anchor=\"start\" x=\"1285\" y=\"-483.8\" font-family=\"Helvetica,sans-Serif\" font-size=\"14.00\">value = [0.755, 0.245]</text>\r\n",
       "<text text-anchor=\"start\" x=\"1301\" y=\"-468.8\" font-family=\"Helvetica,sans-Serif\" font-size=\"14.00\">class = Retained</text>\r\n",
       "</g>\r\n",
       "<!-- 1 -->\r\n",
       "<g id=\"node2\" class=\"node\"><title>1</title>\r\n",
       "<path fill=\"#f5ceb2\" stroke=\"black\" d=\"M1105,-425C1105,-425 941,-425 941,-425 935,-425 929,-419 929,-413 929,-413 929,-354 929,-354 929,-348 935,-342 941,-342 941,-342 1105,-342 1105,-342 1111,-342 1117,-348 1117,-354 1117,-354 1117,-413 1117,-413 1117,-419 1111,-425 1105,-425\"/>\r\n",
       "<text text-anchor=\"start\" x=\"937\" y=\"-409.8\" font-family=\"Helvetica,sans-Serif\" font-size=\"14.00\">signup_date ≤ 20140123.0</text>\r\n",
       "<text text-anchor=\"start\" x=\"985.5\" y=\"-394.8\" font-family=\"Helvetica,sans-Serif\" font-size=\"14.00\">gini = 0.471</text>\r\n",
       "<text text-anchor=\"start\" x=\"967\" y=\"-379.8\" font-family=\"Helvetica,sans-Serif\" font-size=\"14.00\">samples = 43.1%</text>\r\n",
       "<text text-anchor=\"start\" x=\"962.5\" y=\"-364.8\" font-family=\"Helvetica,sans-Serif\" font-size=\"14.00\">value = [0.62, 0.38]</text>\r\n",
       "<text text-anchor=\"start\" x=\"970\" y=\"-349.8\" font-family=\"Helvetica,sans-Serif\" font-size=\"14.00\">class = Retained</text>\r\n",
       "</g>\r\n",
       "<!-- 0&#45;&gt;1 -->\r\n",
       "<g id=\"edge1\" class=\"edge\"><title>0&#45;&gt;1</title>\r\n",
       "<path fill=\"none\" stroke=\"black\" d=\"M1257.82,-467.502C1216.73,-452.98 1168.69,-435.999 1126.81,-421.194\"/>\r\n",
       "<polygon fill=\"black\" stroke=\"black\" points=\"1127.73,-417.808 1117.14,-417.776 1125.4,-424.408 1127.73,-417.808\"/>\r\n",
       "<text text-anchor=\"middle\" x=\"1127.91\" y=\"-436.634\" font-family=\"Helvetica,sans-Serif\" font-size=\"14.00\">True</text>\r\n",
       "</g>\r\n",
       "<!-- 16 -->\r\n",
       "<g id=\"node17\" class=\"node\"><title>16</title>\r\n",
       "<path fill=\"#e9965a\" stroke=\"black\" d=\"M1785,-425C1785,-425 1635,-425 1635,-425 1629,-425 1623,-419 1623,-413 1623,-413 1623,-354 1623,-354 1623,-348 1629,-342 1635,-342 1635,-342 1785,-342 1785,-342 1791,-342 1797,-348 1797,-354 1797,-354 1797,-413 1797,-413 1797,-419 1791,-425 1785,-425\"/>\r\n",
       "<text text-anchor=\"start\" x=\"1631\" y=\"-409.8\" font-family=\"Helvetica,sans-Serif\" font-size=\"14.00\">city_King&#39;s Landing ≤ 0.5</text>\r\n",
       "<text text-anchor=\"start\" x=\"1672.5\" y=\"-394.8\" font-family=\"Helvetica,sans-Serif\" font-size=\"14.00\">gini = 0.243</text>\r\n",
       "<text text-anchor=\"start\" x=\"1654\" y=\"-379.8\" font-family=\"Helvetica,sans-Serif\" font-size=\"14.00\">samples = 56.9%</text>\r\n",
       "<text text-anchor=\"start\" x=\"1641\" y=\"-364.8\" font-family=\"Helvetica,sans-Serif\" font-size=\"14.00\">value = [0.858, 0.142]</text>\r\n",
       "<text text-anchor=\"start\" x=\"1657\" y=\"-349.8\" font-family=\"Helvetica,sans-Serif\" font-size=\"14.00\">class = Retained</text>\r\n",
       "</g>\r\n",
       "<!-- 0&#45;&gt;16 -->\r\n",
       "<g id=\"edge16\" class=\"edge\"><title>0&#45;&gt;16</title>\r\n",
       "<path fill=\"none\" stroke=\"black\" d=\"M1450.34,-469.838C1500.83,-453.244 1562.51,-432.972 1613.09,-416.35\"/>\r\n",
       "<polygon fill=\"black\" stroke=\"black\" points=\"1614.31,-419.631 1622.72,-413.184 1612.13,-412.981 1614.31,-419.631\"/>\r\n",
       "<text text-anchor=\"middle\" x=\"1611.45\" y=\"-431.797\" font-family=\"Helvetica,sans-Serif\" font-size=\"14.00\">False</text>\r\n",
       "</g>\r\n",
       "<!-- 2 -->\r\n",
       "<g id=\"node3\" class=\"node\"><title>2</title>\r\n",
       "<path fill=\"#fceee5\" stroke=\"black\" d=\"M596,-306C596,-306 428,-306 428,-306 422,-306 416,-300 416,-294 416,-294 416,-235 416,-235 416,-229 422,-223 428,-223 428,-223 596,-223 596,-223 602,-223 608,-229 608,-235 608,-235 608,-294 608,-294 608,-300 602,-306 596,-306\"/>\r\n",
       "<text text-anchor=\"start\" x=\"424\" y=\"-290.8\" font-family=\"Helvetica,sans-Serif\" font-size=\"14.00\">avg_rating_by_driver ≤ 4.05</text>\r\n",
       "<text text-anchor=\"start\" x=\"474.5\" y=\"-275.8\" font-family=\"Helvetica,sans-Serif\" font-size=\"14.00\">gini = 0.497</text>\r\n",
       "<text text-anchor=\"start\" x=\"456\" y=\"-260.8\" font-family=\"Helvetica,sans-Serif\" font-size=\"14.00\">samples = 29.6%</text>\r\n",
       "<text text-anchor=\"start\" x=\"443\" y=\"-245.8\" font-family=\"Helvetica,sans-Serif\" font-size=\"14.00\">value = [0.536, 0.464]</text>\r\n",
       "<text text-anchor=\"start\" x=\"459\" y=\"-230.8\" font-family=\"Helvetica,sans-Serif\" font-size=\"14.00\">class = Retained</text>\r\n",
       "</g>\r\n",
       "<!-- 1&#45;&gt;2 -->\r\n",
       "<g id=\"edge2\" class=\"edge\"><title>1&#45;&gt;2</title>\r\n",
       "<path fill=\"none\" stroke=\"black\" d=\"M928.977,-360.972C840.952,-340.818 709.597,-310.742 617.912,-289.75\"/>\r\n",
       "<polygon fill=\"black\" stroke=\"black\" points=\"618.581,-286.313 608.052,-287.492 617.019,-293.136 618.581,-286.313\"/>\r\n",
       "</g>\r\n",
       "<!-- 9 -->\r\n",
       "<g id=\"node10\" class=\"node\"><title>9</title>\r\n",
       "<path fill=\"#eba069\" stroke=\"black\" d=\"M1088,-306C1088,-306 958,-306 958,-306 952,-306 946,-300 946,-294 946,-294 946,-235 946,-235 946,-229 952,-223 958,-223 958,-223 1088,-223 1088,-223 1094,-223 1100,-229 1100,-235 1100,-235 1100,-294 1100,-294 1100,-300 1094,-306 1088,-306\"/>\r\n",
       "<text text-anchor=\"start\" x=\"969\" y=\"-290.8\" font-family=\"Helvetica,sans-Serif\" font-size=\"14.00\">surge_pct ≤ 0.35</text>\r\n",
       "<text text-anchor=\"start\" x=\"985.5\" y=\"-275.8\" font-family=\"Helvetica,sans-Serif\" font-size=\"14.00\">gini = 0.316</text>\r\n",
       "<text text-anchor=\"start\" x=\"967\" y=\"-260.8\" font-family=\"Helvetica,sans-Serif\" font-size=\"14.00\">samples = 13.5%</text>\r\n",
       "<text text-anchor=\"start\" x=\"954\" y=\"-245.8\" font-family=\"Helvetica,sans-Serif\" font-size=\"14.00\">value = [0.803, 0.197]</text>\r\n",
       "<text text-anchor=\"start\" x=\"970\" y=\"-230.8\" font-family=\"Helvetica,sans-Serif\" font-size=\"14.00\">class = Retained</text>\r\n",
       "</g>\r\n",
       "<!-- 1&#45;&gt;9 -->\r\n",
       "<g id=\"edge9\" class=\"edge\"><title>1&#45;&gt;9</title>\r\n",
       "<path fill=\"none\" stroke=\"black\" d=\"M1023,-341.907C1023,-333.649 1023,-324.864 1023,-316.302\"/>\r\n",
       "<polygon fill=\"black\" stroke=\"black\" points=\"1026.5,-316.021 1023,-306.021 1019.5,-316.021 1026.5,-316.021\"/>\r\n",
       "</g>\r\n",
       "<!-- 3 -->\r\n",
       "<g id=\"node4\" class=\"node\"><title>3</title>\r\n",
       "<path fill=\"#ea985c\" stroke=\"black\" d=\"M324,-187C324,-187 174,-187 174,-187 168,-187 162,-181 162,-175 162,-175 162,-116 162,-116 162,-110 168,-104 174,-104 174,-104 324,-104 324,-104 330,-104 336,-110 336,-116 336,-116 336,-175 336,-175 336,-181 330,-187 324,-187\"/>\r\n",
       "<text text-anchor=\"start\" x=\"170\" y=\"-171.8\" font-family=\"Helvetica,sans-Serif\" font-size=\"14.00\">city_King&#39;s Landing ≤ 0.5</text>\r\n",
       "<text text-anchor=\"start\" x=\"211.5\" y=\"-156.8\" font-family=\"Helvetica,sans-Serif\" font-size=\"14.00\">gini = 0.258</text>\r\n",
       "<text text-anchor=\"start\" x=\"197.5\" y=\"-141.8\" font-family=\"Helvetica,sans-Serif\" font-size=\"14.00\">samples = 4.7%</text>\r\n",
       "<text text-anchor=\"start\" x=\"180\" y=\"-126.8\" font-family=\"Helvetica,sans-Serif\" font-size=\"14.00\">value = [0.848, 0.152]</text>\r\n",
       "<text text-anchor=\"start\" x=\"196\" y=\"-111.8\" font-family=\"Helvetica,sans-Serif\" font-size=\"14.00\">class = Retained</text>\r\n",
       "</g>\r\n",
       "<!-- 2&#45;&gt;3 -->\r\n",
       "<g id=\"edge3\" class=\"edge\"><title>2&#45;&gt;3</title>\r\n",
       "<path fill=\"none\" stroke=\"black\" d=\"M420.753,-222.907C396.416,-212.08 370.043,-200.348 345.436,-189.401\"/>\r\n",
       "<polygon fill=\"black\" stroke=\"black\" points=\"346.659,-186.115 336.1,-185.248 343.814,-192.51 346.659,-186.115\"/>\r\n",
       "</g>\r\n",
       "<!-- 6 -->\r\n",
       "<g id=\"node7\" class=\"node\"><title>6</title>\r\n",
       "<path fill=\"#edf6fd\" stroke=\"black\" d=\"M577,-187C577,-187 447,-187 447,-187 441,-187 435,-181 435,-175 435,-175 435,-116 435,-116 435,-110 441,-104 447,-104 447,-104 577,-104 577,-104 583,-104 589,-110 589,-116 589,-116 589,-175 589,-175 589,-181 583,-187 577,-187\"/>\r\n",
       "<text text-anchor=\"start\" x=\"458\" y=\"-171.8\" font-family=\"Helvetica,sans-Serif\" font-size=\"14.00\">surge_pct ≤ 0.25</text>\r\n",
       "<text text-anchor=\"start\" x=\"474.5\" y=\"-156.8\" font-family=\"Helvetica,sans-Serif\" font-size=\"14.00\">gini = 0.499</text>\r\n",
       "<text text-anchor=\"start\" x=\"456\" y=\"-141.8\" font-family=\"Helvetica,sans-Serif\" font-size=\"14.00\">samples = 24.9%</text>\r\n",
       "<text text-anchor=\"start\" x=\"443\" y=\"-126.8\" font-family=\"Helvetica,sans-Serif\" font-size=\"14.00\">value = [0.477, 0.523]</text>\r\n",
       "<text text-anchor=\"start\" x=\"446\" y=\"-111.8\" font-family=\"Helvetica,sans-Serif\" font-size=\"14.00\">class = Not Retained</text>\r\n",
       "</g>\r\n",
       "<!-- 2&#45;&gt;6 -->\r\n",
       "<g id=\"edge6\" class=\"edge\"><title>2&#45;&gt;6</title>\r\n",
       "<path fill=\"none\" stroke=\"black\" d=\"M512,-222.907C512,-214.649 512,-205.864 512,-197.302\"/>\r\n",
       "<polygon fill=\"black\" stroke=\"black\" points=\"515.5,-197.021 512,-187.021 508.5,-197.021 515.5,-197.021\"/>\r\n",
       "</g>\r\n",
       "<!-- 4 -->\r\n",
       "<g id=\"node5\" class=\"node\"><title>4</title>\r\n",
       "<path fill=\"#e99356\" stroke=\"black\" d=\"M142,-68C142,-68 12,-68 12,-68 6,-68 0,-62 0,-56 0,-56 0,-12 0,-12 0,-6 6,-0 12,-0 12,-0 142,-0 142,-0 148,-0 154,-6 154,-12 154,-12 154,-56 154,-56 154,-62 148,-68 142,-68\"/>\r\n",
       "<text text-anchor=\"start\" x=\"39.5\" y=\"-52.8\" font-family=\"Helvetica,sans-Serif\" font-size=\"14.00\">gini = 0.221</text>\r\n",
       "<text text-anchor=\"start\" x=\"25.5\" y=\"-37.8\" font-family=\"Helvetica,sans-Serif\" font-size=\"14.00\">samples = 4.2%</text>\r\n",
       "<text text-anchor=\"start\" x=\"8\" y=\"-22.8\" font-family=\"Helvetica,sans-Serif\" font-size=\"14.00\">value = [0.874, 0.126]</text>\r\n",
       "<text text-anchor=\"start\" x=\"24\" y=\"-7.8\" font-family=\"Helvetica,sans-Serif\" font-size=\"14.00\">class = Retained</text>\r\n",
       "</g>\r\n",
       "<!-- 3&#45;&gt;4 -->\r\n",
       "<g id=\"edge4\" class=\"edge\"><title>3&#45;&gt;4</title>\r\n",
       "<path fill=\"none\" stroke=\"black\" d=\"M184.954,-103.726C169.544,-93.9161 153.127,-83.4644 137.867,-73.7496\"/>\r\n",
       "<polygon fill=\"black\" stroke=\"black\" points=\"139.348,-70.5431 129.032,-68.1252 135.588,-76.4481 139.348,-70.5431\"/>\r\n",
       "</g>\r\n",
       "<!-- 5 -->\r\n",
       "<g id=\"node6\" class=\"node\"><title>5</title>\r\n",
       "<path fill=\"#f4c9ab\" stroke=\"black\" d=\"M314,-68C314,-68 184,-68 184,-68 178,-68 172,-62 172,-56 172,-56 172,-12 172,-12 172,-6 178,-0 184,-0 184,-0 314,-0 314,-0 320,-0 326,-6 326,-12 326,-12 326,-56 326,-56 326,-62 320,-68 314,-68\"/>\r\n",
       "<text text-anchor=\"start\" x=\"211.5\" y=\"-52.8\" font-family=\"Helvetica,sans-Serif\" font-size=\"14.00\">gini = 0.464</text>\r\n",
       "<text text-anchor=\"start\" x=\"197.5\" y=\"-37.8\" font-family=\"Helvetica,sans-Serif\" font-size=\"14.00\">samples = 0.5%</text>\r\n",
       "<text text-anchor=\"start\" x=\"180\" y=\"-22.8\" font-family=\"Helvetica,sans-Serif\" font-size=\"14.00\">value = [0.635, 0.365]</text>\r\n",
       "<text text-anchor=\"start\" x=\"196\" y=\"-7.8\" font-family=\"Helvetica,sans-Serif\" font-size=\"14.00\">class = Retained</text>\r\n",
       "</g>\r\n",
       "<!-- 3&#45;&gt;5 -->\r\n",
       "<g id=\"edge5\" class=\"edge\"><title>3&#45;&gt;5</title>\r\n",
       "<path fill=\"none\" stroke=\"black\" d=\"M249,-103.726C249,-95.5175 249,-86.8595 249,-78.56\"/>\r\n",
       "<polygon fill=\"black\" stroke=\"black\" points=\"252.5,-78.2996 249,-68.2996 245.5,-78.2996 252.5,-78.2996\"/>\r\n",
       "</g>\r\n",
       "<!-- 7 -->\r\n",
       "<g id=\"node8\" class=\"node\"><title>7</title>\r\n",
       "<path fill=\"#f7d6bf\" stroke=\"black\" d=\"M486,-68C486,-68 356,-68 356,-68 350,-68 344,-62 344,-56 344,-56 344,-12 344,-12 344,-6 350,-0 356,-0 356,-0 486,-0 486,-0 492,-0 498,-6 498,-12 498,-12 498,-56 498,-56 498,-62 492,-68 486,-68\"/>\r\n",
       "<text text-anchor=\"start\" x=\"383.5\" y=\"-52.8\" font-family=\"Helvetica,sans-Serif\" font-size=\"14.00\">gini = 0.481</text>\r\n",
       "<text text-anchor=\"start\" x=\"365\" y=\"-37.8\" font-family=\"Helvetica,sans-Serif\" font-size=\"14.00\">samples = 11.5%</text>\r\n",
       "<text text-anchor=\"start\" x=\"352\" y=\"-22.8\" font-family=\"Helvetica,sans-Serif\" font-size=\"14.00\">value = [0.597, 0.403]</text>\r\n",
       "<text text-anchor=\"start\" x=\"368\" y=\"-7.8\" font-family=\"Helvetica,sans-Serif\" font-size=\"14.00\">class = Retained</text>\r\n",
       "</g>\r\n",
       "<!-- 6&#45;&gt;7 -->\r\n",
       "<g id=\"edge7\" class=\"edge\"><title>6&#45;&gt;7</title>\r\n",
       "<path fill=\"none\" stroke=\"black\" d=\"M478.115,-103.726C470.611,-94.6966 462.655,-85.1235 455.141,-76.0816\"/>\r\n",
       "<polygon fill=\"black\" stroke=\"black\" points=\"457.757,-73.7534 448.674,-68.2996 452.373,-78.2275 457.757,-73.7534\"/>\r\n",
       "</g>\r\n",
       "<!-- 8 -->\r\n",
       "<g id=\"node9\" class=\"node\"><title>8</title>\r\n",
       "<path fill=\"#afd7f4\" stroke=\"black\" d=\"M658,-68C658,-68 528,-68 528,-68 522,-68 516,-62 516,-56 516,-56 516,-12 516,-12 516,-6 522,-0 528,-0 528,-0 658,-0 658,-0 664,-0 670,-6 670,-12 670,-12 670,-56 670,-56 670,-62 664,-68 658,-68\"/>\r\n",
       "<text text-anchor=\"start\" x=\"555.5\" y=\"-52.8\" font-family=\"Helvetica,sans-Serif\" font-size=\"14.00\">gini = 0.467</text>\r\n",
       "<text text-anchor=\"start\" x=\"537\" y=\"-37.8\" font-family=\"Helvetica,sans-Serif\" font-size=\"14.00\">samples = 13.4%</text>\r\n",
       "<text text-anchor=\"start\" x=\"524\" y=\"-22.8\" font-family=\"Helvetica,sans-Serif\" font-size=\"14.00\">value = [0.372, 0.628]</text>\r\n",
       "<text text-anchor=\"start\" x=\"527\" y=\"-7.8\" font-family=\"Helvetica,sans-Serif\" font-size=\"14.00\">class = Not Retained</text>\r\n",
       "</g>\r\n",
       "<!-- 6&#45;&gt;8 -->\r\n",
       "<g id=\"edge8\" class=\"edge\"><title>6&#45;&gt;8</title>\r\n",
       "<path fill=\"none\" stroke=\"black\" d=\"M542.161,-103.726C548.773,-94.7878 555.779,-85.3168 562.408,-76.3558\"/>\r\n",
       "<polygon fill=\"black\" stroke=\"black\" points=\"565.234,-78.4206 568.367,-68.2996 559.607,-74.2576 565.234,-78.4206\"/>\r\n",
       "</g>\r\n",
       "<!-- 10 -->\r\n",
       "<g id=\"node11\" class=\"node\"><title>10</title>\r\n",
       "<path fill=\"#e89153\" stroke=\"black\" d=\"M1002,-187C1002,-187 838,-187 838,-187 832,-187 826,-181 826,-175 826,-175 826,-116 826,-116 826,-110 832,-104 838,-104 838,-104 1002,-104 1002,-104 1008,-104 1014,-110 1014,-116 1014,-116 1014,-175 1014,-175 1014,-181 1008,-187 1002,-187\"/>\r\n",
       "<text text-anchor=\"start\" x=\"834\" y=\"-171.8\" font-family=\"Helvetica,sans-Serif\" font-size=\"14.00\">signup_date ≤ 20140127.0</text>\r\n",
       "<text text-anchor=\"start\" x=\"882.5\" y=\"-156.8\" font-family=\"Helvetica,sans-Serif\" font-size=\"14.00\">gini = 0.204</text>\r\n",
       "<text text-anchor=\"start\" x=\"868.5\" y=\"-141.8\" font-family=\"Helvetica,sans-Serif\" font-size=\"14.00\">samples = 7.4%</text>\r\n",
       "<text text-anchor=\"start\" x=\"851\" y=\"-126.8\" font-family=\"Helvetica,sans-Serif\" font-size=\"14.00\">value = [0.884, 0.116]</text>\r\n",
       "<text text-anchor=\"start\" x=\"867\" y=\"-111.8\" font-family=\"Helvetica,sans-Serif\" font-size=\"14.00\">class = Retained</text>\r\n",
       "</g>\r\n",
       "<!-- 9&#45;&gt;10 -->\r\n",
       "<g id=\"edge10\" class=\"edge\"><title>9&#45;&gt;10</title>\r\n",
       "<path fill=\"none\" stroke=\"black\" d=\"M987.265,-222.907C979.275,-213.832 970.726,-204.121 962.494,-194.769\"/>\r\n",
       "<polygon fill=\"black\" stroke=\"black\" points=\"964.907,-192.214 955.672,-187.021 959.653,-196.839 964.907,-192.214\"/>\r\n",
       "</g>\r\n",
       "<!-- 13 -->\r\n",
       "<g id=\"node14\" class=\"node\"><title>13</title>\r\n",
       "<path fill=\"#f0b68c\" stroke=\"black\" d=\"M1208,-187C1208,-187 1044,-187 1044,-187 1038,-187 1032,-181 1032,-175 1032,-175 1032,-116 1032,-116 1032,-110 1038,-104 1044,-104 1044,-104 1208,-104 1208,-104 1214,-104 1220,-110 1220,-116 1220,-116 1220,-175 1220,-175 1220,-181 1214,-187 1208,-187\"/>\r\n",
       "<text text-anchor=\"start\" x=\"1040\" y=\"-171.8\" font-family=\"Helvetica,sans-Serif\" font-size=\"14.00\">signup_date ≤ 20140129.0</text>\r\n",
       "<text text-anchor=\"start\" x=\"1088.5\" y=\"-156.8\" font-family=\"Helvetica,sans-Serif\" font-size=\"14.00\">gini = 0.416</text>\r\n",
       "<text text-anchor=\"start\" x=\"1074.5\" y=\"-141.8\" font-family=\"Helvetica,sans-Serif\" font-size=\"14.00\">samples = 6.1%</text>\r\n",
       "<text text-anchor=\"start\" x=\"1057\" y=\"-126.8\" font-family=\"Helvetica,sans-Serif\" font-size=\"14.00\">value = [0.705, 0.295]</text>\r\n",
       "<text text-anchor=\"start\" x=\"1073\" y=\"-111.8\" font-family=\"Helvetica,sans-Serif\" font-size=\"14.00\">class = Retained</text>\r\n",
       "</g>\r\n",
       "<!-- 9&#45;&gt;13 -->\r\n",
       "<g id=\"edge13\" class=\"edge\"><title>9&#45;&gt;13</title>\r\n",
       "<path fill=\"none\" stroke=\"black\" d=\"M1058.74,-222.907C1066.72,-213.832 1075.27,-204.121 1083.51,-194.769\"/>\r\n",
       "<polygon fill=\"black\" stroke=\"black\" points=\"1086.35,-196.839 1090.33,-187.021 1081.09,-192.214 1086.35,-196.839\"/>\r\n",
       "</g>\r\n",
       "<!-- 11 -->\r\n",
       "<g id=\"node12\" class=\"node\"><title>11</title>\r\n",
       "<path fill=\"#eb9c63\" stroke=\"black\" d=\"M830,-68C830,-68 700,-68 700,-68 694,-68 688,-62 688,-56 688,-56 688,-12 688,-12 688,-6 694,-0 700,-0 700,-0 830,-0 830,-0 836,-0 842,-6 842,-12 842,-12 842,-56 842,-56 842,-62 836,-68 830,-68\"/>\r\n",
       "<text text-anchor=\"start\" x=\"727.5\" y=\"-52.8\" font-family=\"Helvetica,sans-Serif\" font-size=\"14.00\">gini = 0.291</text>\r\n",
       "<text text-anchor=\"start\" x=\"713.5\" y=\"-37.8\" font-family=\"Helvetica,sans-Serif\" font-size=\"14.00\">samples = 3.8%</text>\r\n",
       "<text text-anchor=\"start\" x=\"696\" y=\"-22.8\" font-family=\"Helvetica,sans-Serif\" font-size=\"14.00\">value = [0.823, 0.177]</text>\r\n",
       "<text text-anchor=\"start\" x=\"712\" y=\"-7.8\" font-family=\"Helvetica,sans-Serif\" font-size=\"14.00\">class = Retained</text>\r\n",
       "</g>\r\n",
       "<!-- 10&#45;&gt;11 -->\r\n",
       "<g id=\"edge11\" class=\"edge\"><title>10&#45;&gt;11</title>\r\n",
       "<path fill=\"none\" stroke=\"black\" d=\"M862.284,-103.726C848.598,-94.0582 834.031,-83.767 820.449,-74.172\"/>\r\n",
       "<polygon fill=\"black\" stroke=\"black\" points=\"822.323,-71.2109 812.136,-68.2996 818.284,-76.9282 822.323,-71.2109\"/>\r\n",
       "</g>\r\n",
       "<!-- 12 -->\r\n",
       "<g id=\"node13\" class=\"node\"><title>12</title>\r\n",
       "<path fill=\"#e68844\" stroke=\"black\" d=\"M1002,-68C1002,-68 872,-68 872,-68 866,-68 860,-62 860,-56 860,-56 860,-12 860,-12 860,-6 866,-0 872,-0 872,-0 1002,-0 1002,-0 1008,-0 1014,-6 1014,-12 1014,-12 1014,-56 1014,-56 1014,-62 1008,-68 1002,-68\"/>\r\n",
       "<text text-anchor=\"start\" x=\"899.5\" y=\"-52.8\" font-family=\"Helvetica,sans-Serif\" font-size=\"14.00\">gini = 0.097</text>\r\n",
       "<text text-anchor=\"start\" x=\"885.5\" y=\"-37.8\" font-family=\"Helvetica,sans-Serif\" font-size=\"14.00\">samples = 3.6%</text>\r\n",
       "<text text-anchor=\"start\" x=\"868\" y=\"-22.8\" font-family=\"Helvetica,sans-Serif\" font-size=\"14.00\">value = [0.949, 0.051]</text>\r\n",
       "<text text-anchor=\"start\" x=\"884\" y=\"-7.8\" font-family=\"Helvetica,sans-Serif\" font-size=\"14.00\">class = Retained</text>\r\n",
       "</g>\r\n",
       "<!-- 10&#45;&gt;12 -->\r\n",
       "<g id=\"edge12\" class=\"edge\"><title>10&#45;&gt;12</title>\r\n",
       "<path fill=\"none\" stroke=\"black\" d=\"M926.33,-103.726C927.619,-95.4263 928.979,-86.6671 930.28,-78.2834\"/>\r\n",
       "<polygon fill=\"black\" stroke=\"black\" points=\"933.755,-78.7182 931.83,-68.2996 926.837,-77.6442 933.755,-78.7182\"/>\r\n",
       "</g>\r\n",
       "<!-- 14 -->\r\n",
       "<g id=\"node15\" class=\"node\"><title>14</title>\r\n",
       "<path fill=\"#f4c9a9\" stroke=\"black\" d=\"M1174,-68C1174,-68 1044,-68 1044,-68 1038,-68 1032,-62 1032,-56 1032,-56 1032,-12 1032,-12 1032,-6 1038,-0 1044,-0 1044,-0 1174,-0 1174,-0 1180,-0 1186,-6 1186,-12 1186,-12 1186,-56 1186,-56 1186,-62 1180,-68 1174,-68\"/>\r\n",
       "<text text-anchor=\"start\" x=\"1071.5\" y=\"-52.8\" font-family=\"Helvetica,sans-Serif\" font-size=\"14.00\">gini = 0.462</text>\r\n",
       "<text text-anchor=\"start\" x=\"1057.5\" y=\"-37.8\" font-family=\"Helvetica,sans-Serif\" font-size=\"14.00\">samples = 4.8%</text>\r\n",
       "<text text-anchor=\"start\" x=\"1040\" y=\"-22.8\" font-family=\"Helvetica,sans-Serif\" font-size=\"14.00\">value = [0.638, 0.362]</text>\r\n",
       "<text text-anchor=\"start\" x=\"1056\" y=\"-7.8\" font-family=\"Helvetica,sans-Serif\" font-size=\"14.00\">class = Retained</text>\r\n",
       "</g>\r\n",
       "<!-- 13&#45;&gt;14 -->\r\n",
       "<g id=\"edge14\" class=\"edge\"><title>13&#45;&gt;14</title>\r\n",
       "<path fill=\"none\" stroke=\"black\" d=\"M1119.67,-103.726C1118.38,-95.4263 1117.02,-86.6671 1115.72,-78.2834\"/>\r\n",
       "<polygon fill=\"black\" stroke=\"black\" points=\"1119.16,-77.6442 1114.17,-68.2996 1112.25,-78.7182 1119.16,-77.6442\"/>\r\n",
       "</g>\r\n",
       "<!-- 15 -->\r\n",
       "<g id=\"node16\" class=\"node\"><title>15</title>\r\n",
       "<path fill=\"#e68843\" stroke=\"black\" d=\"M1346,-68C1346,-68 1216,-68 1216,-68 1210,-68 1204,-62 1204,-56 1204,-56 1204,-12 1204,-12 1204,-6 1210,-0 1216,-0 1216,-0 1346,-0 1346,-0 1352,-0 1358,-6 1358,-12 1358,-12 1358,-56 1358,-56 1358,-62 1352,-68 1346,-68\"/>\r\n",
       "<text text-anchor=\"start\" x=\"1243.5\" y=\"-52.8\" font-family=\"Helvetica,sans-Serif\" font-size=\"14.00\">gini = 0.094</text>\r\n",
       "<text text-anchor=\"start\" x=\"1229.5\" y=\"-37.8\" font-family=\"Helvetica,sans-Serif\" font-size=\"14.00\">samples = 1.3%</text>\r\n",
       "<text text-anchor=\"start\" x=\"1212\" y=\"-22.8\" font-family=\"Helvetica,sans-Serif\" font-size=\"14.00\">value = [0.951, 0.049]</text>\r\n",
       "<text text-anchor=\"start\" x=\"1228\" y=\"-7.8\" font-family=\"Helvetica,sans-Serif\" font-size=\"14.00\">class = Retained</text>\r\n",
       "</g>\r\n",
       "<!-- 13&#45;&gt;15 -->\r\n",
       "<g id=\"edge15\" class=\"edge\"><title>13&#45;&gt;15</title>\r\n",
       "<path fill=\"none\" stroke=\"black\" d=\"M1183.72,-103.726C1197.4,-94.0582 1211.97,-83.767 1225.55,-74.172\"/>\r\n",
       "<polygon fill=\"black\" stroke=\"black\" points=\"1227.72,-76.9282 1233.86,-68.2996 1223.68,-71.2109 1227.72,-76.9282\"/>\r\n",
       "</g>\r\n",
       "<!-- 17 -->\r\n",
       "<g id=\"node18\" class=\"node\"><title>17</title>\r\n",
       "<path fill=\"#e88e4e\" stroke=\"black\" d=\"M1792,-306C1792,-306 1628,-306 1628,-306 1622,-306 1616,-300 1616,-294 1616,-294 1616,-235 1616,-235 1616,-229 1622,-223 1628,-223 1628,-223 1792,-223 1792,-223 1798,-223 1804,-229 1804,-235 1804,-235 1804,-294 1804,-294 1804,-300 1798,-306 1792,-306\"/>\r\n",
       "<text text-anchor=\"start\" x=\"1624\" y=\"-290.8\" font-family=\"Helvetica,sans-Serif\" font-size=\"14.00\">signup_date ≤ 20140113.0</text>\r\n",
       "<text text-anchor=\"start\" x=\"1672.5\" y=\"-275.8\" font-family=\"Helvetica,sans-Serif\" font-size=\"14.00\">gini = 0.173</text>\r\n",
       "<text text-anchor=\"start\" x=\"1654\" y=\"-260.8\" font-family=\"Helvetica,sans-Serif\" font-size=\"14.00\">samples = 44.6%</text>\r\n",
       "<text text-anchor=\"start\" x=\"1641\" y=\"-245.8\" font-family=\"Helvetica,sans-Serif\" font-size=\"14.00\">value = [0.904, 0.096]</text>\r\n",
       "<text text-anchor=\"start\" x=\"1657\" y=\"-230.8\" font-family=\"Helvetica,sans-Serif\" font-size=\"14.00\">class = Retained</text>\r\n",
       "</g>\r\n",
       "<!-- 16&#45;&gt;17 -->\r\n",
       "<g id=\"edge17\" class=\"edge\"><title>16&#45;&gt;17</title>\r\n",
       "<path fill=\"none\" stroke=\"black\" d=\"M1710,-341.907C1710,-333.649 1710,-324.864 1710,-316.302\"/>\r\n",
       "<polygon fill=\"black\" stroke=\"black\" points=\"1713.5,-316.021 1710,-306.021 1706.5,-316.021 1713.5,-316.021\"/>\r\n",
       "</g>\r\n",
       "<!-- 24 -->\r\n",
       "<g id=\"node25\" class=\"node\"><title>24</title>\r\n",
       "<path fill=\"#f1b991\" stroke=\"black\" d=\"M2300,-306C2300,-306 2136,-306 2136,-306 2130,-306 2124,-300 2124,-294 2124,-294 2124,-235 2124,-235 2124,-229 2130,-223 2136,-223 2136,-223 2300,-223 2300,-223 2306,-223 2312,-229 2312,-235 2312,-235 2312,-294 2312,-294 2312,-300 2306,-306 2300,-306\"/>\r\n",
       "<text text-anchor=\"start\" x=\"2132\" y=\"-290.8\" font-family=\"Helvetica,sans-Serif\" font-size=\"14.00\">signup_date ≤ 20140121.0</text>\r\n",
       "<text text-anchor=\"start\" x=\"2180.5\" y=\"-275.8\" font-family=\"Helvetica,sans-Serif\" font-size=\"14.00\">gini = 0.426</text>\r\n",
       "<text text-anchor=\"start\" x=\"2162\" y=\"-260.8\" font-family=\"Helvetica,sans-Serif\" font-size=\"14.00\">samples = 12.3%</text>\r\n",
       "<text text-anchor=\"start\" x=\"2149\" y=\"-245.8\" font-family=\"Helvetica,sans-Serif\" font-size=\"14.00\">value = [0.692, 0.308]</text>\r\n",
       "<text text-anchor=\"start\" x=\"2165\" y=\"-230.8\" font-family=\"Helvetica,sans-Serif\" font-size=\"14.00\">class = Retained</text>\r\n",
       "</g>\r\n",
       "<!-- 16&#45;&gt;24 -->\r\n",
       "<g id=\"edge24\" class=\"edge\"><title>16&#45;&gt;24</title>\r\n",
       "<path fill=\"none\" stroke=\"black\" d=\"M1797.04,-362.453C1884.94,-342.208 2020.74,-310.932 2114.2,-289.407\"/>\r\n",
       "<polygon fill=\"black\" stroke=\"black\" points=\"2115,-292.814 2123.96,-287.159 2113.43,-285.993 2115,-292.814\"/>\r\n",
       "</g>\r\n",
       "<!-- 18 -->\r\n",
       "<g id=\"node19\" class=\"node\"><title>18</title>\r\n",
       "<path fill=\"#ea985c\" stroke=\"black\" d=\"M1681,-187C1681,-187 1551,-187 1551,-187 1545,-187 1539,-181 1539,-175 1539,-175 1539,-116 1539,-116 1539,-110 1545,-104 1551,-104 1551,-104 1681,-104 1681,-104 1687,-104 1693,-110 1693,-116 1693,-116 1693,-175 1693,-175 1693,-181 1687,-187 1681,-187\"/>\r\n",
       "<text text-anchor=\"start\" x=\"1552\" y=\"-171.8\" font-family=\"Helvetica,sans-Serif\" font-size=\"14.00\">phone_iPhone ≤ 0.5</text>\r\n",
       "<text text-anchor=\"start\" x=\"1578.5\" y=\"-156.8\" font-family=\"Helvetica,sans-Serif\" font-size=\"14.00\">gini = 0.257</text>\r\n",
       "<text text-anchor=\"start\" x=\"1560\" y=\"-141.8\" font-family=\"Helvetica,sans-Serif\" font-size=\"14.00\">samples = 17.1%</text>\r\n",
       "<text text-anchor=\"start\" x=\"1547\" y=\"-126.8\" font-family=\"Helvetica,sans-Serif\" font-size=\"14.00\">value = [0.848, 0.152]</text>\r\n",
       "<text text-anchor=\"start\" x=\"1563\" y=\"-111.8\" font-family=\"Helvetica,sans-Serif\" font-size=\"14.00\">class = Retained</text>\r\n",
       "</g>\r\n",
       "<!-- 17&#45;&gt;18 -->\r\n",
       "<g id=\"edge18\" class=\"edge\"><title>17&#45;&gt;18</title>\r\n",
       "<path fill=\"none\" stroke=\"black\" d=\"M1677.39,-222.907C1670.17,-213.923 1662.45,-204.315 1655.01,-195.05\"/>\r\n",
       "<polygon fill=\"black\" stroke=\"black\" points=\"1657.55,-192.624 1648.56,-187.021 1652.09,-197.009 1657.55,-192.624\"/>\r\n",
       "</g>\r\n",
       "<!-- 21 -->\r\n",
       "<g id=\"node22\" class=\"node\"><title>21</title>\r\n",
       "<path fill=\"#e78946\" stroke=\"black\" d=\"M1887,-187C1887,-187 1723,-187 1723,-187 1717,-187 1711,-181 1711,-175 1711,-175 1711,-116 1711,-116 1711,-110 1717,-104 1723,-104 1723,-104 1887,-104 1887,-104 1893,-104 1899,-110 1899,-116 1899,-116 1899,-175 1899,-175 1899,-181 1893,-187 1887,-187\"/>\r\n",
       "<text text-anchor=\"start\" x=\"1719\" y=\"-171.8\" font-family=\"Helvetica,sans-Serif\" font-size=\"14.00\">signup_date ≤ 20140127.0</text>\r\n",
       "<text text-anchor=\"start\" x=\"1767.5\" y=\"-156.8\" font-family=\"Helvetica,sans-Serif\" font-size=\"14.00\">gini = 0.115</text>\r\n",
       "<text text-anchor=\"start\" x=\"1749\" y=\"-141.8\" font-family=\"Helvetica,sans-Serif\" font-size=\"14.00\">samples = 27.5%</text>\r\n",
       "<text text-anchor=\"start\" x=\"1736\" y=\"-126.8\" font-family=\"Helvetica,sans-Serif\" font-size=\"14.00\">value = [0.939, 0.061]</text>\r\n",
       "<text text-anchor=\"start\" x=\"1752\" y=\"-111.8\" font-family=\"Helvetica,sans-Serif\" font-size=\"14.00\">class = Retained</text>\r\n",
       "</g>\r\n",
       "<!-- 17&#45;&gt;21 -->\r\n",
       "<g id=\"edge21\" class=\"edge\"><title>17&#45;&gt;21</title>\r\n",
       "<path fill=\"none\" stroke=\"black\" d=\"M1742.96,-222.907C1750.25,-213.923 1758.06,-204.315 1765.58,-195.05\"/>\r\n",
       "<polygon fill=\"black\" stroke=\"black\" points=\"1768.51,-196.99 1772.1,-187.021 1763.08,-192.578 1768.51,-196.99\"/>\r\n",
       "</g>\r\n",
       "<!-- 19 -->\r\n",
       "<g id=\"node20\" class=\"node\"><title>19</title>\r\n",
       "<path fill=\"#e78b49\" stroke=\"black\" d=\"M1518,-68C1518,-68 1388,-68 1388,-68 1382,-68 1376,-62 1376,-56 1376,-56 1376,-12 1376,-12 1376,-6 1382,-0 1388,-0 1388,-0 1518,-0 1518,-0 1524,-0 1530,-6 1530,-12 1530,-12 1530,-56 1530,-56 1530,-62 1524,-68 1518,-68\"/>\r\n",
       "<text text-anchor=\"start\" x=\"1415.5\" y=\"-52.8\" font-family=\"Helvetica,sans-Serif\" font-size=\"14.00\">gini = 0.141</text>\r\n",
       "<text text-anchor=\"start\" x=\"1401.5\" y=\"-37.8\" font-family=\"Helvetica,sans-Serif\" font-size=\"14.00\">samples = 6.1%</text>\r\n",
       "<text text-anchor=\"start\" x=\"1384\" y=\"-22.8\" font-family=\"Helvetica,sans-Serif\" font-size=\"14.00\">value = [0.923, 0.077]</text>\r\n",
       "<text text-anchor=\"start\" x=\"1400\" y=\"-7.8\" font-family=\"Helvetica,sans-Serif\" font-size=\"14.00\">class = Retained</text>\r\n",
       "</g>\r\n",
       "<!-- 18&#45;&gt;19 -->\r\n",
       "<g id=\"edge19\" class=\"edge\"><title>18&#45;&gt;19</title>\r\n",
       "<path fill=\"none\" stroke=\"black\" d=\"M1555.3,-103.726C1540.7,-93.9161 1525.14,-83.4644 1510.68,-73.7496\"/>\r\n",
       "<polygon fill=\"black\" stroke=\"black\" points=\"1512.56,-70.7963 1502.31,-68.1252 1508.66,-76.6069 1512.56,-70.7963\"/>\r\n",
       "</g>\r\n",
       "<!-- 20 -->\r\n",
       "<g id=\"node21\" class=\"node\"><title>20</title>\r\n",
       "<path fill=\"#eb9f68\" stroke=\"black\" d=\"M1690,-68C1690,-68 1560,-68 1560,-68 1554,-68 1548,-62 1548,-56 1548,-56 1548,-12 1548,-12 1548,-6 1554,-0 1560,-0 1560,-0 1690,-0 1690,-0 1696,-0 1702,-6 1702,-12 1702,-12 1702,-56 1702,-56 1702,-62 1696,-68 1690,-68\"/>\r\n",
       "<text text-anchor=\"start\" x=\"1587.5\" y=\"-52.8\" font-family=\"Helvetica,sans-Serif\" font-size=\"14.00\">gini = 0.311</text>\r\n",
       "<text text-anchor=\"start\" x=\"1569\" y=\"-37.8\" font-family=\"Helvetica,sans-Serif\" font-size=\"14.00\">samples = 11.0%</text>\r\n",
       "<text text-anchor=\"start\" x=\"1556\" y=\"-22.8\" font-family=\"Helvetica,sans-Serif\" font-size=\"14.00\">value = [0.807, 0.193]</text>\r\n",
       "<text text-anchor=\"start\" x=\"1572\" y=\"-7.8\" font-family=\"Helvetica,sans-Serif\" font-size=\"14.00\">class = Retained</text>\r\n",
       "</g>\r\n",
       "<!-- 18&#45;&gt;20 -->\r\n",
       "<g id=\"edge20\" class=\"edge\"><title>18&#45;&gt;20</title>\r\n",
       "<path fill=\"none\" stroke=\"black\" d=\"M1619.35,-103.726C1620.03,-95.4263 1620.75,-86.6671 1621.44,-78.2834\"/>\r\n",
       "<polygon fill=\"black\" stroke=\"black\" points=\"1624.93,-78.5527 1622.26,-68.2996 1617.96,-77.9793 1624.93,-78.5527\"/>\r\n",
       "</g>\r\n",
       "<!-- 22 -->\r\n",
       "<g id=\"node23\" class=\"node\"><title>22</title>\r\n",
       "<path fill=\"#e78b49\" stroke=\"black\" d=\"M1862,-68C1862,-68 1732,-68 1732,-68 1726,-68 1720,-62 1720,-56 1720,-56 1720,-12 1720,-12 1720,-6 1726,-0 1732,-0 1732,-0 1862,-0 1862,-0 1868,-0 1874,-6 1874,-12 1874,-12 1874,-56 1874,-56 1874,-62 1868,-68 1862,-68\"/>\r\n",
       "<text text-anchor=\"start\" x=\"1763.5\" y=\"-52.8\" font-family=\"Helvetica,sans-Serif\" font-size=\"14.00\">gini = 0.14</text>\r\n",
       "<text text-anchor=\"start\" x=\"1741\" y=\"-37.8\" font-family=\"Helvetica,sans-Serif\" font-size=\"14.00\">samples = 21.1%</text>\r\n",
       "<text text-anchor=\"start\" x=\"1728\" y=\"-22.8\" font-family=\"Helvetica,sans-Serif\" font-size=\"14.00\">value = [0.924, 0.076]</text>\r\n",
       "<text text-anchor=\"start\" x=\"1744\" y=\"-7.8\" font-family=\"Helvetica,sans-Serif\" font-size=\"14.00\">class = Retained</text>\r\n",
       "</g>\r\n",
       "<!-- 21&#45;&gt;22 -->\r\n",
       "<g id=\"edge22\" class=\"edge\"><title>21&#45;&gt;22</title>\r\n",
       "<path fill=\"none\" stroke=\"black\" d=\"M1802.02,-103.726C1801.41,-95.4263 1800.77,-86.6671 1800.16,-78.2834\"/>\r\n",
       "<polygon fill=\"black\" stroke=\"black\" points=\"1803.65,-78.018 1799.43,-68.2996 1796.67,-78.5281 1803.65,-78.018\"/>\r\n",
       "</g>\r\n",
       "<!-- 23 -->\r\n",
       "<g id=\"node24\" class=\"node\"><title>23</title>\r\n",
       "<path fill=\"#e5833c\" stroke=\"black\" d=\"M2034,-68C2034,-68 1904,-68 1904,-68 1898,-68 1892,-62 1892,-56 1892,-56 1892,-12 1892,-12 1892,-6 1898,-0 1904,-0 1904,-0 2034,-0 2034,-0 2040,-0 2046,-6 2046,-12 2046,-12 2046,-56 2046,-56 2046,-62 2040,-68 2034,-68\"/>\r\n",
       "<text text-anchor=\"start\" x=\"1931.5\" y=\"-52.8\" font-family=\"Helvetica,sans-Serif\" font-size=\"14.00\">gini = 0.028</text>\r\n",
       "<text text-anchor=\"start\" x=\"1917.5\" y=\"-37.8\" font-family=\"Helvetica,sans-Serif\" font-size=\"14.00\">samples = 6.5%</text>\r\n",
       "<text text-anchor=\"start\" x=\"1900\" y=\"-22.8\" font-family=\"Helvetica,sans-Serif\" font-size=\"14.00\">value = [0.986, 0.014]</text>\r\n",
       "<text text-anchor=\"start\" x=\"1916\" y=\"-7.8\" font-family=\"Helvetica,sans-Serif\" font-size=\"14.00\">class = Retained</text>\r\n",
       "</g>\r\n",
       "<!-- 21&#45;&gt;23 -->\r\n",
       "<g id=\"edge23\" class=\"edge\"><title>21&#45;&gt;23</title>\r\n",
       "<path fill=\"none\" stroke=\"black\" d=\"M1866.07,-103.726C1880.76,-93.9161 1896.41,-83.4644 1910.96,-73.7496\"/>\r\n",
       "<polygon fill=\"black\" stroke=\"black\" points=\"1913.01,-76.5889 1919.39,-68.1252 1909.13,-70.7673 1913.01,-76.5889\"/>\r\n",
       "</g>\r\n",
       "<!-- 25 -->\r\n",
       "<g id=\"node26\" class=\"node\"><title>25</title>\r\n",
       "<path fill=\"#f6d2b9\" stroke=\"black\" d=\"M2283,-187C2283,-187 2153,-187 2153,-187 2147,-187 2141,-181 2141,-175 2141,-175 2141,-116 2141,-116 2141,-110 2147,-104 2153,-104 2153,-104 2283,-104 2283,-104 2289,-104 2295,-110 2295,-116 2295,-116 2295,-175 2295,-175 2295,-181 2289,-187 2283,-187\"/>\r\n",
       "<text text-anchor=\"start\" x=\"2158.5\" y=\"-171.8\" font-family=\"Helvetica,sans-Serif\" font-size=\"14.00\">avg_surge ≤ 1.005</text>\r\n",
       "<text text-anchor=\"start\" x=\"2180.5\" y=\"-156.8\" font-family=\"Helvetica,sans-Serif\" font-size=\"14.00\">gini = 0.477</text>\r\n",
       "<text text-anchor=\"start\" x=\"2166.5\" y=\"-141.8\" font-family=\"Helvetica,sans-Serif\" font-size=\"14.00\">samples = 8.2%</text>\r\n",
       "<text text-anchor=\"start\" x=\"2149\" y=\"-126.8\" font-family=\"Helvetica,sans-Serif\" font-size=\"14.00\">value = [0.608, 0.392]</text>\r\n",
       "<text text-anchor=\"start\" x=\"2165\" y=\"-111.8\" font-family=\"Helvetica,sans-Serif\" font-size=\"14.00\">class = Retained</text>\r\n",
       "</g>\r\n",
       "<!-- 24&#45;&gt;25 -->\r\n",
       "<g id=\"edge25\" class=\"edge\"><title>24&#45;&gt;25</title>\r\n",
       "<path fill=\"none\" stroke=\"black\" d=\"M2218,-222.907C2218,-214.649 2218,-205.864 2218,-197.302\"/>\r\n",
       "<polygon fill=\"black\" stroke=\"black\" points=\"2221.5,-197.021 2218,-187.021 2214.5,-197.021 2221.5,-197.021\"/>\r\n",
       "</g>\r\n",
       "<!-- 28 -->\r\n",
       "<g id=\"node29\" class=\"node\"><title>28</title>\r\n",
       "<path fill=\"#e99559\" stroke=\"black\" d=\"M2567,-187C2567,-187 2403,-187 2403,-187 2397,-187 2391,-181 2391,-175 2391,-175 2391,-116 2391,-116 2391,-110 2397,-104 2403,-104 2403,-104 2567,-104 2567,-104 2573,-104 2579,-110 2579,-116 2579,-116 2579,-175 2579,-175 2579,-181 2573,-187 2567,-187\"/>\r\n",
       "<text text-anchor=\"start\" x=\"2399\" y=\"-171.8\" font-family=\"Helvetica,sans-Serif\" font-size=\"14.00\">signup_date ≤ 20140127.0</text>\r\n",
       "<text text-anchor=\"start\" x=\"2447.5\" y=\"-156.8\" font-family=\"Helvetica,sans-Serif\" font-size=\"14.00\">gini = 0.239</text>\r\n",
       "<text text-anchor=\"start\" x=\"2433.5\" y=\"-141.8\" font-family=\"Helvetica,sans-Serif\" font-size=\"14.00\">samples = 4.1%</text>\r\n",
       "<text text-anchor=\"start\" x=\"2416\" y=\"-126.8\" font-family=\"Helvetica,sans-Serif\" font-size=\"14.00\">value = [0.861, 0.139]</text>\r\n",
       "<text text-anchor=\"start\" x=\"2432\" y=\"-111.8\" font-family=\"Helvetica,sans-Serif\" font-size=\"14.00\">class = Retained</text>\r\n",
       "</g>\r\n",
       "<!-- 24&#45;&gt;28 -->\r\n",
       "<g id=\"edge28\" class=\"edge\"><title>24&#45;&gt;28</title>\r\n",
       "<path fill=\"none\" stroke=\"black\" d=\"M2310.63,-222.907C2334.04,-212.653 2359.29,-201.585 2383.12,-191.143\"/>\r\n",
       "<polygon fill=\"black\" stroke=\"black\" points=\"2384.77,-194.24 2392.53,-187.021 2381.97,-187.829 2384.77,-194.24\"/>\r\n",
       "</g>\r\n",
       "<!-- 26 -->\r\n",
       "<g id=\"node27\" class=\"node\"><title>26</title>\r\n",
       "<path fill=\"#f3c3a1\" stroke=\"black\" d=\"M2206,-68C2206,-68 2076,-68 2076,-68 2070,-68 2064,-62 2064,-56 2064,-56 2064,-12 2064,-12 2064,-6 2070,-0 2076,-0 2076,-0 2206,-0 2206,-0 2212,-0 2218,-6 2218,-12 2218,-12 2218,-56 2218,-56 2218,-62 2212,-68 2206,-68\"/>\r\n",
       "<text text-anchor=\"start\" x=\"2103.5\" y=\"-52.8\" font-family=\"Helvetica,sans-Serif\" font-size=\"14.00\">gini = 0.452</text>\r\n",
       "<text text-anchor=\"start\" x=\"2089.5\" y=\"-37.8\" font-family=\"Helvetica,sans-Serif\" font-size=\"14.00\">samples = 6.2%</text>\r\n",
       "<text text-anchor=\"start\" x=\"2072\" y=\"-22.8\" font-family=\"Helvetica,sans-Serif\" font-size=\"14.00\">value = [0.655, 0.345]</text>\r\n",
       "<text text-anchor=\"start\" x=\"2088\" y=\"-7.8\" font-family=\"Helvetica,sans-Serif\" font-size=\"14.00\">class = Retained</text>\r\n",
       "</g>\r\n",
       "<!-- 25&#45;&gt;26 -->\r\n",
       "<g id=\"edge26\" class=\"edge\"><title>25&#45;&gt;26</title>\r\n",
       "<path fill=\"none\" stroke=\"black\" d=\"M2189.33,-103.726C2183.11,-94.879 2176.52,-85.51 2170.27,-76.6303\"/>\r\n",
       "<polygon fill=\"black\" stroke=\"black\" points=\"2173.03,-74.4664 2164.42,-68.2996 2167.31,-78.4929 2173.03,-74.4664\"/>\r\n",
       "</g>\r\n",
       "<!-- 27 -->\r\n",
       "<g id=\"node28\" class=\"node\"><title>27</title>\r\n",
       "<path fill=\"#e3f1fb\" stroke=\"black\" d=\"M2378,-68C2378,-68 2248,-68 2248,-68 2242,-68 2236,-62 2236,-56 2236,-56 2236,-12 2236,-12 2236,-6 2242,-0 2248,-0 2248,-0 2378,-0 2378,-0 2384,-0 2390,-6 2390,-12 2390,-12 2390,-56 2390,-56 2390,-62 2384,-68 2378,-68\"/>\r\n",
       "<text text-anchor=\"start\" x=\"2275.5\" y=\"-52.8\" font-family=\"Helvetica,sans-Serif\" font-size=\"14.00\">gini = 0.497</text>\r\n",
       "<text text-anchor=\"start\" x=\"2261.5\" y=\"-37.8\" font-family=\"Helvetica,sans-Serif\" font-size=\"14.00\">samples = 2.0%</text>\r\n",
       "<text text-anchor=\"start\" x=\"2244\" y=\"-22.8\" font-family=\"Helvetica,sans-Serif\" font-size=\"14.00\">value = [0.462, 0.538]</text>\r\n",
       "<text text-anchor=\"start\" x=\"2247\" y=\"-7.8\" font-family=\"Helvetica,sans-Serif\" font-size=\"14.00\">class = Not Retained</text>\r\n",
       "</g>\r\n",
       "<!-- 25&#45;&gt;27 -->\r\n",
       "<g id=\"edge27\" class=\"edge\"><title>25&#45;&gt;27</title>\r\n",
       "<path fill=\"none\" stroke=\"black\" d=\"M2253.37,-103.726C2261.21,-94.6966 2269.51,-85.1235 2277.36,-76.0816\"/>\r\n",
       "<polygon fill=\"black\" stroke=\"black\" points=\"2280.2,-78.1467 2284.11,-68.2996 2274.91,-73.5595 2280.2,-78.1467\"/>\r\n",
       "</g>\r\n",
       "<!-- 29 -->\r\n",
       "<g id=\"node30\" class=\"node\"><title>29</title>\r\n",
       "<path fill=\"#eba06a\" stroke=\"black\" d=\"M2550,-68C2550,-68 2420,-68 2420,-68 2414,-68 2408,-62 2408,-56 2408,-56 2408,-12 2408,-12 2408,-6 2414,-0 2420,-0 2420,-0 2550,-0 2550,-0 2556,-0 2562,-6 2562,-12 2562,-12 2562,-56 2562,-56 2562,-62 2556,-68 2550,-68\"/>\r\n",
       "<text text-anchor=\"start\" x=\"2447.5\" y=\"-52.8\" font-family=\"Helvetica,sans-Serif\" font-size=\"14.00\">gini = 0.319</text>\r\n",
       "<text text-anchor=\"start\" x=\"2433.5\" y=\"-37.8\" font-family=\"Helvetica,sans-Serif\" font-size=\"14.00\">samples = 2.2%</text>\r\n",
       "<text text-anchor=\"start\" x=\"2416\" y=\"-22.8\" font-family=\"Helvetica,sans-Serif\" font-size=\"14.00\">value = [0.801, 0.199]</text>\r\n",
       "<text text-anchor=\"start\" x=\"2432\" y=\"-7.8\" font-family=\"Helvetica,sans-Serif\" font-size=\"14.00\">class = Retained</text>\r\n",
       "</g>\r\n",
       "<!-- 28&#45;&gt;29 -->\r\n",
       "<g id=\"edge29\" class=\"edge\"><title>28&#45;&gt;29</title>\r\n",
       "<path fill=\"none\" stroke=\"black\" d=\"M2485,-103.726C2485,-95.5175 2485,-86.8595 2485,-78.56\"/>\r\n",
       "<polygon fill=\"black\" stroke=\"black\" points=\"2488.5,-78.2996 2485,-68.2996 2481.5,-78.2996 2488.5,-78.2996\"/>\r\n",
       "</g>\r\n",
       "<!-- 30 -->\r\n",
       "<g id=\"node31\" class=\"node\"><title>30</title>\r\n",
       "<path fill=\"#e78a47\" stroke=\"black\" d=\"M2722,-68C2722,-68 2592,-68 2592,-68 2586,-68 2580,-62 2580,-56 2580,-56 2580,-12 2580,-12 2580,-6 2586,-0 2592,-0 2592,-0 2722,-0 2722,-0 2728,-0 2734,-6 2734,-12 2734,-12 2734,-56 2734,-56 2734,-62 2728,-68 2722,-68\"/>\r\n",
       "<text text-anchor=\"start\" x=\"2619.5\" y=\"-52.8\" font-family=\"Helvetica,sans-Serif\" font-size=\"14.00\">gini = 0.122</text>\r\n",
       "<text text-anchor=\"start\" x=\"2605.5\" y=\"-37.8\" font-family=\"Helvetica,sans-Serif\" font-size=\"14.00\">samples = 1.8%</text>\r\n",
       "<text text-anchor=\"start\" x=\"2588\" y=\"-22.8\" font-family=\"Helvetica,sans-Serif\" font-size=\"14.00\">value = [0.934, 0.066]</text>\r\n",
       "<text text-anchor=\"start\" x=\"2604\" y=\"-7.8\" font-family=\"Helvetica,sans-Serif\" font-size=\"14.00\">class = Retained</text>\r\n",
       "</g>\r\n",
       "<!-- 28&#45;&gt;30 -->\r\n",
       "<g id=\"edge30\" class=\"edge\"><title>28&#45;&gt;30</title>\r\n",
       "<path fill=\"none\" stroke=\"black\" d=\"M2549.05,-103.726C2564.46,-93.9161 2580.87,-83.4644 2596.13,-73.7496\"/>\r\n",
       "<polygon fill=\"black\" stroke=\"black\" points=\"2598.41,-76.4481 2604.97,-68.1252 2594.65,-70.5431 2598.41,-76.4481\"/>\r\n",
       "</g>\r\n",
       "</g>\r\n",
       "</svg>\r\n"
      ],
      "text/plain": [
       "<graphviz.files.Source at 0x2a0c370fe50>"
      ]
     },
     "execution_count": 70,
     "metadata": {},
     "output_type": "execute_result"
    }
   ],
   "source": [
    "dot_data = export_graphviz(final_model, feature_names=X_train.columns, class_names=['Retained','Not Retained'], proportion=True, filled=True, rounded=True, special_characters=True)\n",
    "graph = graphviz.Source(dot_data) \n",
    "graph"
   ]
  },
  {
   "cell_type": "markdown",
   "id": "b3d09cb6-2111-42d8-ba93-9488d582b09f",
   "metadata": {},
   "source": [
    "#### Feature Importances"
   ]
  },
  {
   "cell_type": "code",
   "execution_count": 71,
   "id": "3d523886-9731-43d9-a350-929bd6565281",
   "metadata": {},
   "outputs": [],
   "source": [
    "from sklearn.inspection import permutation_importance"
   ]
  },
  {
   "cell_type": "code",
   "execution_count": 72,
   "id": "fd984306-18ce-4ad4-9122-21912ea95b1a",
   "metadata": {},
   "outputs": [],
   "source": [
    "result = permutation_importance(final_model, X, y, scoring='accuracy', n_repeats=10, random_state=0)"
   ]
  },
  {
   "cell_type": "code",
   "execution_count": 73,
   "id": "bc2cfef2-4109-4741-a6c7-0d5815fdc583",
   "metadata": {},
   "outputs": [
    {
     "data": {
      "text/html": [
       "<div>\n",
       "<style scoped>\n",
       "    .dataframe tbody tr th:only-of-type {\n",
       "        vertical-align: middle;\n",
       "    }\n",
       "\n",
       "    .dataframe tbody tr th {\n",
       "        vertical-align: top;\n",
       "    }\n",
       "\n",
       "    .dataframe thead th {\n",
       "        text-align: right;\n",
       "    }\n",
       "</style>\n",
       "<table border=\"1\" class=\"dataframe\">\n",
       "  <thead>\n",
       "    <tr style=\"text-align: right;\">\n",
       "      <th></th>\n",
       "      <th>0</th>\n",
       "    </tr>\n",
       "  </thead>\n",
       "  <tbody>\n",
       "    <tr>\n",
       "      <th>signup_date</th>\n",
       "      <td>0.030634</td>\n",
       "    </tr>\n",
       "    <tr>\n",
       "      <th>surge_pct</th>\n",
       "      <td>0.030202</td>\n",
       "    </tr>\n",
       "    <tr>\n",
       "      <th>avg_rating_by_driver</th>\n",
       "      <td>0.026392</td>\n",
       "    </tr>\n",
       "    <tr>\n",
       "      <th>city_King's Landing</th>\n",
       "      <td>0.007900</td>\n",
       "    </tr>\n",
       "    <tr>\n",
       "      <th>avg_surge</th>\n",
       "      <td>0.007398</td>\n",
       "    </tr>\n",
       "    <tr>\n",
       "      <th>trips_in_first_30_days</th>\n",
       "      <td>0.000000</td>\n",
       "    </tr>\n",
       "    <tr>\n",
       "      <th>avg_rating_of_driver</th>\n",
       "      <td>0.000000</td>\n",
       "    </tr>\n",
       "    <tr>\n",
       "      <th>ultimate_black_user</th>\n",
       "      <td>0.000000</td>\n",
       "    </tr>\n",
       "    <tr>\n",
       "      <th>weekday_pct</th>\n",
       "      <td>0.000000</td>\n",
       "    </tr>\n",
       "    <tr>\n",
       "      <th>avg_dist</th>\n",
       "      <td>0.000000</td>\n",
       "    </tr>\n",
       "    <tr>\n",
       "      <th>active_user</th>\n",
       "      <td>0.000000</td>\n",
       "    </tr>\n",
       "    <tr>\n",
       "      <th>city_Astapor</th>\n",
       "      <td>0.000000</td>\n",
       "    </tr>\n",
       "    <tr>\n",
       "      <th>city_Winterfell</th>\n",
       "      <td>0.000000</td>\n",
       "    </tr>\n",
       "    <tr>\n",
       "      <th>phone_Android</th>\n",
       "      <td>0.000000</td>\n",
       "    </tr>\n",
       "    <tr>\n",
       "      <th>phone_iPhone</th>\n",
       "      <td>0.000000</td>\n",
       "    </tr>\n",
       "  </tbody>\n",
       "</table>\n",
       "</div>"
      ],
      "text/plain": [
       "                               0\n",
       "signup_date             0.030634\n",
       "surge_pct               0.030202\n",
       "avg_rating_by_driver    0.026392\n",
       "city_King's Landing     0.007900\n",
       "avg_surge               0.007398\n",
       "trips_in_first_30_days  0.000000\n",
       "avg_rating_of_driver    0.000000\n",
       "ultimate_black_user     0.000000\n",
       "weekday_pct             0.000000\n",
       "avg_dist                0.000000\n",
       "active_user             0.000000\n",
       "city_Astapor            0.000000\n",
       "city_Winterfell         0.000000\n",
       "phone_Android           0.000000\n",
       "phone_iPhone            0.000000"
      ]
     },
     "execution_count": 73,
     "metadata": {},
     "output_type": "execute_result"
    }
   ],
   "source": [
    "pd.DataFrame(data=result.importances_mean, index=X_train.columns).sort_values(by=0, ascending=False)"
   ]
  },
  {
   "cell_type": "markdown",
   "id": "59d3db03-10ae-4509-9f83-a5b05d16d78a",
   "metadata": {},
   "source": [
    "For this model, in this instance, to accurately predict whether a customer is retained 6 months from sign-up, these are the top normalized (i.e. out of 1) feature importances.\n",
    "\n",
    "1. A user's sign-up date\n",
    "2. Average percentage of trips having a surge multiplier over 1\n",
    "3. Average rating of user by driver"
   ]
  },
  {
   "cell_type": "markdown",
   "id": "19d07e39-b1ad-4151-acf8-ce3d544533bb",
   "metadata": {},
   "source": [
    "## Final Model Summary"
   ]
  },
  {
   "cell_type": "markdown",
   "id": "62eb59b0-8c6f-4ab8-88db-1ae54a949691",
   "metadata": {},
   "source": [
    "The final model chosen was decision tree classification. The final hyperparameter tuned model was made to have \"shallow\" depth for interpretability i.e. its depth was 4, achieved an accuracy of 79%.\n",
    "\n",
    "Greater accuracy, precision, and recall could have been achieved with more depth or an ensemble method, but accuracy would only increase by about 3%. Still only getting 4/5 right, and yet at much higher cost of training time.\n",
    "\n",
    "The final model's feature importances don't seem to be useful in creating insights for Ultimate to act on, but exploratory data analysis did."
   ]
  },
  {
   "cell_type": "markdown",
   "id": "64da6d87-3147-47d5-9a8f-4afcfe7fc090",
   "metadata": {
    "tags": []
   },
   "source": [
    "## Insights"
   ]
  },
  {
   "cell_type": "markdown",
   "id": "4c95b6cd-f17a-41b5-88f3-fdeb7f35136e",
   "metadata": {},
   "source": [
    "In general, *retained users did more.*\n",
    "\n",
    "That is to say:\n",
    "- They rode more trips in their first 30 days\n",
    "- They were rated higher by their drivers\n",
    "- Their trips were of longer distances\n",
    "- Their percentage of total trips being on weekdays was higher\n",
    "- Etc.\n",
    "\n",
    "Maybe most actionable though, is that retained users were much more often iPhone users."
   ]
  },
  {
   "cell_type": "markdown",
   "id": "e2a43a93-2126-4493-aea1-f22b218da164",
   "metadata": {},
   "source": [
    "**How to act on these insights and keep users retained after 6 months?**\n",
    "\n",
    "I advise to incentivize users to ride more within their first 30 days. It may be that just having more experience with the product or brand keeps users around.\n",
    "\n",
    "Also, targeting iPhone users may be an effective strategy, as proportionally the were retained more often."
   ]
  },
  {
   "cell_type": "markdown",
   "id": "69fcef31-e6fe-4dcc-94a2-ead116f54d7a",
   "metadata": {},
   "source": [
    "## Questions Answered"
   ]
  },
  {
   "cell_type": "markdown",
   "id": "2e53222b-35b6-416f-9378-0667151ee245",
   "metadata": {},
   "source": [
    "**What fraction of the observed users were retained?**"
   ]
  },
  {
   "cell_type": "code",
   "execution_count": 75,
   "id": "f13436f2-e968-40f6-9a2a-abed3086ed91",
   "metadata": {},
   "outputs": [
    {
     "name": "stdout",
     "output_type": "stream",
     "text": [
      "34610 of 50000 users were retained.\n",
      "\n",
      "This was calculated by summing the amount of users who took more than 0 trips in the preceding 30 days after their signup date.\n"
     ]
    }
   ],
   "source": [
    "print(f'{data.active_user.sum()} of {len(data)} users were retained.\\n\\nThis was calculated by summing the amount of users who took more than 0 trips in the preceding 30 days after their signup date.')"
   ]
  }
 ],
 "metadata": {
  "kernelspec": {
   "display_name": "Python 3 (ipykernel)",
   "language": "python",
   "name": "python3"
  },
  "language_info": {
   "codemirror_mode": {
    "name": "ipython",
    "version": 3
   },
   "file_extension": ".py",
   "mimetype": "text/x-python",
   "name": "python",
   "nbconvert_exporter": "python",
   "pygments_lexer": "ipython3",
   "version": "3.8.11"
  }
 },
 "nbformat": 4,
 "nbformat_minor": 5
}
